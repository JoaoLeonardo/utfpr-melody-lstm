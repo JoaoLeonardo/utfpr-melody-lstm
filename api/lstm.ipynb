{
  "cells": [
    {
      "cell_type": "markdown",
      "metadata": {
        "id": "txAUNvcsUOSI"
      },
      "source": [
        "# Preliminares\n",
        "\n",
        "Esta rede irá gerar uma lista de notas (tons em MIDI). Os dados do treinamento são do projeto Magenta, em particular a base do Bach Doodle.\n",
        "\n",
        "São utilizadas redes LSTM para gerar as sequencias de notas que possuem tom e tempo."
      ]
    },
    {
      "cell_type": "code",
      "execution_count": 1,
      "metadata": {
        "colab": {
          "base_uri": "https://localhost:8080/"
        },
        "id": "TF6pfGFH7pnt",
        "outputId": "6ae72de1-8045-4d5c-c62d-93832937206c"
      },
      "outputs": [
        {
          "name": "stdout",
          "output_type": "stream",
          "text": [
            "Mounted at /content/drive\n"
          ]
        }
      ],
      "source": [
        "# conecta com o Google Drive\n",
        "from google.colab import drive\n",
        "drive.mount('/content/drive')"
      ]
    },
    {
      "cell_type": "markdown",
      "metadata": {
        "id": "rtx8rb1Rhd60"
      },
      "source": [
        "# Imports\n",
        "Caso alguma das células falhe, favor verificar os scripts de atualização/instalação de dependências presente na última seção \"Utilidades\"."
      ]
    },
    {
      "cell_type": "code",
      "execution_count": 4,
      "metadata": {
        "id": "r-u-JgcAUlxd"
      },
      "outputs": [],
      "source": [
        "# importa as dependências gerais\n",
        "import os\n",
        "from google.colab import files"
      ]
    },
    {
      "cell_type": "code",
      "execution_count": 5,
      "metadata": {
        "id": "Fvf3Q2BEXwZU"
      },
      "outputs": [],
      "source": [
        "# importa o tensorflow\n",
        "import tensorflow.compat.v1 as tf\n",
        "tf.logging.set_verbosity('DEBUG')"
      ]
    },
    {
      "cell_type": "code",
      "execution_count": 6,
      "metadata": {
        "id": "1FkwKedUVtJp"
      },
      "outputs": [],
      "source": [
        "# importa as dependências do magenta\n",
        "import magenta\n",
        "import note_seq\n",
        "\n",
        "from magenta.common import merge_hparams\n",
        "from magenta.contrib import training as contrib_training\n",
        "\n",
        "HParams = contrib_training.HParams\n",
        "\n",
        "import warnings\n",
        "warnings.filterwarnings(\"ignore\", category=DeprecationWarning)\n",
        "\n",
        "from magenta.models.music_vae import data\n",
        "from magenta.models.music_vae import Config\n",
        "from magenta.models.music_vae import lstm_models\n",
        "from magenta.models.music_vae import music_vae_train\n",
        "from magenta.models.music_vae.base_model import MusicVAE\n",
        "from magenta.models.music_vae.trained_model import TrainedModel"
      ]
    },
    {
      "cell_type": "markdown",
      "metadata": {
        "id": "buezDDiwHNWu"
      },
      "source": [
        "# Declaração de constantes"
      ]
    },
    {
      "cell_type": "code",
      "execution_count": 7,
      "metadata": {
        "id": "xlEBsWg1HQOO"
      },
      "outputs": [],
      "source": [
        "EPOCHS = 1\n",
        "SHARDS_LEN = 10\n",
        "BATCH_SIZE = 2048\n",
        "OUTPUT_PATH = 'training_dir/data/'\n",
        "\n",
        "current_step = 0"
      ]
    },
    {
      "cell_type": "markdown",
      "metadata": {
        "id": "HQ6S304TGope"
      },
      "source": [
        "# Definição das funções de prepação dos lotes"
      ]
    },
    {
      "cell_type": "code",
      "execution_count": 8,
      "metadata": {
        "id": "ypXsmEnPjFMA"
      },
      "outputs": [],
      "source": [
        "def get_train_batch_path(index):\n",
        "  return OUTPUT_PATH + \"batch-%i.tfrecord\"%(index)"
      ]
    },
    {
      "cell_type": "code",
      "execution_count": 9,
      "metadata": {
        "id": "qSPZoWi_GuxZ"
      },
      "outputs": [],
      "source": [
        "def prepare_training_set(dataset_path):\n",
        "  tr_raw_set = tf.data.TFRecordDataset(dataset_path) # 44389 registros\n",
        "  tr_data = tr_raw_set.shuffle(BATCH_SIZE * SHARDS_LEN)\n",
        "\n",
        "  num_shards = SHARDS_LEN\n",
        "\n",
        "  if not os.path.exists(OUTPUT_PATH):\n",
        "      os.makedirs(OUTPUT_PATH)\n",
        "\n",
        "  for i in range(0, SHARDS_LEN):\n",
        "    writer = tf.data.experimental.TFRecordWriter(get_train_batch_path(i))\n",
        "    writer.write(tr_data.shard(SHARDS_LEN, i))"
      ]
    },
    {
      "cell_type": "markdown",
      "metadata": {
        "id": "3SV4JS73htoR"
      },
      "source": [
        "# Construção dos modelos"
      ]
    },
    {
      "cell_type": "code",
      "execution_count": 10,
      "metadata": {
        "id": "16X7LO1tewi4"
      },
      "outputs": [],
      "source": [
        "model = MusicVAE(lstm_models.BidirectionalLstmEncoder(), \n",
        "                 lstm_models.CategoricalLstmDecoder())\n",
        "\n",
        "hparams = merge_hparams(\n",
        "    lstm_models.get_default_hparams(),\n",
        "    HParams(\n",
        "        batch_size=BATCH_SIZE,\n",
        "        max_seq_len=32,  # Divide em 2 compassos com 16 batidas cada\n",
        "        z_size=512,\n",
        "        enc_rnn_size=[2048],\n",
        "        dec_rnn_size=[2048, 2048, 2048],\n",
        "        free_bits=0,\n",
        "        max_beta=0.5,\n",
        "        beta_rate=0.99999,\n",
        "        learning_rate=0.0005,\n",
        "        sampling_schedule='inverse_sigmoid',\n",
        "        sampling_rate=1000,\n",
        "        ))\n",
        "\n",
        "augmenter = data.NoteSequenceAugmenter(transpose_range=(-5, 5)),\n",
        "\n",
        "data_converter = data.OneHotMelodyConverter(\n",
        "    skip_polyphony=False,\n",
        "    max_bars=100,\n",
        "    slice_bars=2,\n",
        "    steps_per_quarter=4)"
      ]
    },
    {
      "cell_type": "code",
      "execution_count": 11,
      "metadata": {
        "id": "kbRnyXsAZNT3"
      },
      "outputs": [],
      "source": [
        "#model.build(hparams=hparams, output_depth=data_converter.output_depth, is_training=True)"
      ]
    },
    {
      "cell_type": "code",
      "execution_count": 12,
      "metadata": {
        "id": "kA0Fwt4maprK"
      },
      "outputs": [],
      "source": [
        "def get_model_config():\n",
        "  global current_step\n",
        "  return Config(\n",
        "    model=model,\n",
        "    hparams=hparams,\n",
        "    #note_sequence_augmenter=augmenter,\n",
        "    data_converter=data_converter,\n",
        "    train_examples_path=get_train_batch_path(current_step),\n",
        "  )"
      ]
    },
    {
      "cell_type": "markdown",
      "metadata": {
        "id": "TrrhezfOiFG_"
      },
      "source": [
        "# Definição das funções de treinamento"
      ]
    },
    {
      "cell_type": "code",
      "execution_count": 13,
      "metadata": {
        "id": "3W-JBzpKlkQu"
      },
      "outputs": [],
      "source": [
        "def get_dataset(tf_file_reader=tf.data.TFRecordDataset):\n",
        "  return data.get_dataset(\n",
        "      get_model_config(),\n",
        "      tf_file_reader=tf_file_reader,\n",
        "      is_training=True,\n",
        "      cache_dataset=False)"
      ]
    },
    {
      "cell_type": "code",
      "execution_count": 14,
      "metadata": {
        "id": "PW_NZJWrRGGx"
      },
      "outputs": [],
      "source": [
        "def train_step():\n",
        "    run_dir = os.path.expanduser('training_dir')\n",
        "    train_dir = os.path.join(run_dir, 'train')\n",
        "    config = get_model_config()\n",
        "    music_vae_train.train(\n",
        "        train_dir=train_dir,\n",
        "        config=config,\n",
        "        dataset_fn=get_dataset,\n",
        "        num_steps=hparams.batch_size,\n",
        "        checkpoints_to_keep=1,\n",
        "        task=0\n",
        "    )"
      ]
    },
    {
      "cell_type": "code",
      "execution_count": 15,
      "metadata": {
        "id": "sGhrVyQdTr_X"
      },
      "outputs": [],
      "source": [
        "def train():\n",
        "  global current_step\n",
        "\n",
        "  for i in range(0, EPOCHS):\n",
        "    current_step = 0;\n",
        "    for j in range (0, SHARDS_LEN):\n",
        "      try:\n",
        "        train_step()\n",
        "        current_step += 1\n",
        "      except:\n",
        "        current_step += 1\n",
        "        pass"
      ]
    },
    {
      "cell_type": "markdown",
      "metadata": {
        "id": "AZ-gzHp3iO8c"
      },
      "source": [
        "# Executáveis"
      ]
    },
    {
      "cell_type": "code",
      "execution_count": 16,
      "metadata": {
        "colab": {
          "base_uri": "https://localhost:8080/"
        },
        "id": "ZG4zYxG2XysS",
        "outputId": "25be6998-415e-4c0e-a927-dd662a5dc4c9"
      },
      "outputs": [
        {
          "name": "stderr",
          "output_type": "stream",
          "text": [
            "WARNING:tensorflow:From <ipython-input-9-c330da90fc39>:11: TFRecordWriter.__init__ (from tensorflow.python.data.experimental.ops.writers) is deprecated and will be removed in a future version.\n",
            "Instructions for updating:\n",
            "To write TFRecords to disk, use `tf.io.TFRecordWriter`. To save and load the contents of a dataset, use `tf.data.experimental.save` and `tf.data.experimental.load`\n"
          ]
        }
      ],
      "source": [
        "# monta os lotes de treinamento\n",
        "prepare_training_set('drive/MyDrive/BachDoodle/bach-doodle-001.tfrecord')"
      ]
    },
    {
      "cell_type": "code",
      "execution_count": null,
      "metadata": {
        "id": "C4_rsKH3RO9S"
      },
      "outputs": [],
      "source": [
        "# execute para treinar o modelo\n",
        "# a partir desse momento não é mais possível preparar os lotes (devido disable_v2_behavior)\n",
        "tf.disable_v2_behavior()\n",
        "train()"
      ]
    },
    {
      "cell_type": "code",
      "execution_count": 21,
      "metadata": {
        "colab": {
          "base_uri": "https://localhost:8080/"
        },
        "id": "ALazCgkyWVv9",
        "outputId": "a4ec27ab-f433-4a49-ebed-35b0da6a9a19"
      },
      "outputs": [
        {
          "name": "stderr",
          "output_type": "stream",
          "text": [
            "INFO:tensorflow:Building MusicVAE model with BidirectionalLstmEncoder, CategoricalLstmDecoder, and hparams:\n",
            "{'max_seq_len': 32, 'z_size': 512, 'free_bits': 0, 'max_beta': 0.5, 'beta_rate': 0.99999, 'batch_size': 4, 'grad_clip': 1.0, 'clip_mode': 'global_norm', 'grad_norm_clip_to_zero': 10000, 'learning_rate': 0.0005, 'decay_rate': 0.9999, 'min_learning_rate': 1e-05, 'conditional': True, 'dec_rnn_size': [2048, 2048, 2048], 'enc_rnn_size': [2048], 'dropout_keep_prob': 1.0, 'sampling_schedule': 'constant', 'sampling_rate': 1.0, 'use_cudnn': False, 'residual_encoder': False, 'residual_decoder': False, 'control_preprocessing_rnn_size': [256]}\n",
            "INFO:tensorflow:\n",
            "Encoder Cells (bidirectional):\n",
            "  units: [2048]\n",
            "\n",
            "WARNING:tensorflow:`tf.nn.rnn_cell.MultiRNNCell` is deprecated. This class is equivalent as `tf.keras.layers.StackedRNNCells`, and will be replaced by that in Tensorflow 2.0.\n",
            "WARNING:tensorflow:`tf.nn.rnn_cell.MultiRNNCell` is deprecated. This class is equivalent as `tf.keras.layers.StackedRNNCells`, and will be replaced by that in Tensorflow 2.0.\n",
            "INFO:tensorflow:\n",
            "Decoder Cells:\n",
            "  units: [2048, 2048, 2048]\n",
            "\n",
            "WARNING:tensorflow:Setting non-training sampling schedule from constant:1.000000 to constant:1.0.\n",
            "WARNING:tensorflow:`tf.nn.rnn_cell.MultiRNNCell` is deprecated. This class is equivalent as `tf.keras.layers.StackedRNNCells`, and will be replaced by that in Tensorflow 2.0.\n",
            "INFO:tensorflow:Restoring parameters from /content/training_dir/train/model.ckpt-0\n"
          ]
        }
      ],
      "source": [
        "# instancia o modelo treinado a partir do último checkpoint\n",
        "# OBS: Em caso de erro no deepCopy, favor alterar linha 58 do\n",
        "#      trained_model.py do MusicVAE para self._config = config\n",
        "#      e reiniciar o ambiente de execução\n",
        "trained_model = TrainedModel(\n",
        "    config=get_model_config(), \n",
        "    batch_size=4, \n",
        "    checkpoint_dir_or_path='/content/training_dir/train/model.ckpt-0')"
      ]
    },
    {
      "cell_type": "code",
      "execution_count": 22,
      "metadata": {
        "colab": {
          "base_uri": "https://localhost:8080/",
          "height": 817
        },
        "id": "-08kZfFqZ4mo",
        "outputId": "1a91c34e-8f43-4738-a853-db983cd9d5f2"
      },
      "outputs": [
        {
          "data": {
            "application/javascript": "\n(function(root) {\n  function now() {\n    return new Date();\n  }\n\n  var force = true;\n\n  if (typeof root._bokeh_onload_callbacks === \"undefined\" || force === true) {\n    root._bokeh_onload_callbacks = [];\n    root._bokeh_is_loading = undefined;\n  }\n\n  var JS_MIME_TYPE = 'application/javascript';\n  var HTML_MIME_TYPE = 'text/html';\n  var EXEC_MIME_TYPE = 'application/vnd.bokehjs_exec.v0+json';\n  var CLASS_NAME = 'output_bokeh rendered_html';\n\n  /**\n   * Render data to the DOM node\n   */\n  function render(props, node) {\n    var script = document.createElement(\"script\");\n    node.appendChild(script);\n  }\n\n  /**\n   * Handle when an output is cleared or removed\n   */\n  function handleClearOutput(event, handle) {\n    var cell = handle.cell;\n\n    var id = cell.output_area._bokeh_element_id;\n    var server_id = cell.output_area._bokeh_server_id;\n    // Clean up Bokeh references\n    if (id != null && id in Bokeh.index) {\n      Bokeh.index[id].model.document.clear();\n      delete Bokeh.index[id];\n    }\n\n    if (server_id !== undefined) {\n      // Clean up Bokeh references\n      var cmd = \"from bokeh.io.state import curstate; print(curstate().uuid_to_server['\" + server_id + \"'].get_sessions()[0].document.roots[0]._id)\";\n      cell.notebook.kernel.execute(cmd, {\n        iopub: {\n          output: function(msg) {\n            var id = msg.content.text.trim();\n            if (id in Bokeh.index) {\n              Bokeh.index[id].model.document.clear();\n              delete Bokeh.index[id];\n            }\n          }\n        }\n      });\n      // Destroy server and session\n      var cmd = \"import bokeh.io.notebook as ion; ion.destroy_server('\" + server_id + \"')\";\n      cell.notebook.kernel.execute(cmd);\n    }\n  }\n\n  /**\n   * Handle when a new output is added\n   */\n  function handleAddOutput(event, handle) {\n    var output_area = handle.output_area;\n    var output = handle.output;\n\n    // limit handleAddOutput to display_data with EXEC_MIME_TYPE content only\n    if ((output.output_type != \"display_data\") || (!Object.prototype.hasOwnProperty.call(output.data, EXEC_MIME_TYPE))) {\n      return\n    }\n\n    var toinsert = output_area.element.find(\".\" + CLASS_NAME.split(' ')[0]);\n\n    if (output.metadata[EXEC_MIME_TYPE][\"id\"] !== undefined) {\n      toinsert[toinsert.length - 1].firstChild.textContent = output.data[JS_MIME_TYPE];\n      // store reference to embed id on output_area\n      output_area._bokeh_element_id = output.metadata[EXEC_MIME_TYPE][\"id\"];\n    }\n    if (output.metadata[EXEC_MIME_TYPE][\"server_id\"] !== undefined) {\n      var bk_div = document.createElement(\"div\");\n      bk_div.innerHTML = output.data[HTML_MIME_TYPE];\n      var script_attrs = bk_div.children[0].attributes;\n      for (var i = 0; i < script_attrs.length; i++) {\n        toinsert[toinsert.length - 1].firstChild.setAttribute(script_attrs[i].name, script_attrs[i].value);\n        toinsert[toinsert.length - 1].firstChild.textContent = bk_div.children[0].textContent\n      }\n      // store reference to server id on output_area\n      output_area._bokeh_server_id = output.metadata[EXEC_MIME_TYPE][\"server_id\"];\n    }\n  }\n\n  function register_renderer(events, OutputArea) {\n\n    function append_mime(data, metadata, element) {\n      // create a DOM node to render to\n      var toinsert = this.create_output_subarea(\n        metadata,\n        CLASS_NAME,\n        EXEC_MIME_TYPE\n      );\n      this.keyboard_manager.register_events(toinsert);\n      // Render to node\n      var props = {data: data, metadata: metadata[EXEC_MIME_TYPE]};\n      render(props, toinsert[toinsert.length - 1]);\n      element.append(toinsert);\n      return toinsert\n    }\n\n    /* Handle when an output is cleared or removed */\n    events.on('clear_output.CodeCell', handleClearOutput);\n    events.on('delete.Cell', handleClearOutput);\n\n    /* Handle when a new output is added */\n    events.on('output_added.OutputArea', handleAddOutput);\n\n    /**\n     * Register the mime type and append_mime function with output_area\n     */\n    OutputArea.prototype.register_mime_type(EXEC_MIME_TYPE, append_mime, {\n      /* Is output safe? */\n      safe: true,\n      /* Index of renderer in `output_area.display_order` */\n      index: 0\n    });\n  }\n\n  // register the mime type if in Jupyter Notebook environment and previously unregistered\n  if (root.Jupyter !== undefined) {\n    var events = require('base/js/events');\n    var OutputArea = require('notebook/js/outputarea').OutputArea;\n\n    if (OutputArea.prototype.mime_types().indexOf(EXEC_MIME_TYPE) == -1) {\n      register_renderer(events, OutputArea);\n    }\n  }\n\n  \n  if (typeof (root._bokeh_timeout) === \"undefined\" || force === true) {\n    root._bokeh_timeout = Date.now() + 5000;\n    root._bokeh_failed_load = false;\n  }\n\n  var NB_LOAD_WARNING = {'data': {'text/html':\n     \"<div style='background-color: #fdd'>\\n\"+\n     \"<p>\\n\"+\n     \"BokehJS does not appear to have successfully loaded. If loading BokehJS from CDN, this \\n\"+\n     \"may be due to a slow or bad network connection. Possible fixes:\\n\"+\n     \"</p>\\n\"+\n     \"<ul>\\n\"+\n     \"<li>re-rerun `output_notebook()` to attempt to load from CDN again, or</li>\\n\"+\n     \"<li>use INLINE resources instead, as so:</li>\\n\"+\n     \"</ul>\\n\"+\n     \"<code>\\n\"+\n     \"from bokeh.resources import INLINE\\n\"+\n     \"output_notebook(resources=INLINE)\\n\"+\n     \"</code>\\n\"+\n     \"</div>\"}};\n\n  function display_loaded() {\n    var el = document.getElementById(null);\n    if (el != null) {\n      el.textContent = \"BokehJS is loading...\";\n    }\n    if (root.Bokeh !== undefined) {\n      if (el != null) {\n        el.textContent = \"BokehJS \" + root.Bokeh.version + \" successfully loaded.\";\n      }\n    } else if (Date.now() < root._bokeh_timeout) {\n      setTimeout(display_loaded, 100)\n    }\n  }\n\n\n  function run_callbacks() {\n    try {\n      root._bokeh_onload_callbacks.forEach(function(callback) {\n        if (callback != null)\n          callback();\n      });\n    } finally {\n      delete root._bokeh_onload_callbacks\n    }\n    console.debug(\"Bokeh: all callbacks have finished\");\n  }\n\n  function load_libs(css_urls, js_urls, callback) {\n    if (css_urls == null) css_urls = [];\n    if (js_urls == null) js_urls = [];\n\n    root._bokeh_onload_callbacks.push(callback);\n    if (root._bokeh_is_loading > 0) {\n      console.debug(\"Bokeh: BokehJS is being loaded, scheduling callback at\", now());\n      return null;\n    }\n    if (js_urls == null || js_urls.length === 0) {\n      run_callbacks();\n      return null;\n    }\n    console.debug(\"Bokeh: BokehJS not loaded, scheduling load and callback at\", now());\n    root._bokeh_is_loading = css_urls.length + js_urls.length;\n\n    function on_load() {\n      root._bokeh_is_loading--;\n      if (root._bokeh_is_loading === 0) {\n        console.debug(\"Bokeh: all BokehJS libraries/stylesheets loaded\");\n        run_callbacks()\n      }\n    }\n\n    function on_error(url) {\n      console.error(\"failed to load \" + url);\n    }\n\n    for (let i = 0; i < css_urls.length; i++) {\n      const url = css_urls[i];\n      const element = document.createElement(\"link\");\n      element.onload = on_load;\n      element.onerror = on_error.bind(null, url);\n      element.rel = \"stylesheet\";\n      element.type = \"text/css\";\n      element.href = url;\n      console.debug(\"Bokeh: injecting link tag for BokehJS stylesheet: \", url);\n      document.body.appendChild(element);\n    }\n\n    const hashes = {\"https://cdn.bokeh.org/bokeh/release/bokeh-2.3.3.min.js\": \"dM3QQsP+wXdHg42wTqW85BjZQdLNNIXqlPw/BgKoExPmTG7ZLML4EGqLMfqHT6ON\", \"https://cdn.bokeh.org/bokeh/release/bokeh-tables-2.3.3.min.js\": \"8x57I4YuIfu8XyZfFo0XVr2WAT8EK4rh/uDe3wF7YuW2FNUSNEpJbsPaB1nJ2fz2\", \"https://cdn.bokeh.org/bokeh/release/bokeh-widgets-2.3.3.min.js\": \"3QTqdz9LyAm2i0sG5XTePsHec3UHWwVsrOL68SYRoAXsafvfAyqtQ+h440+qIBhS\"};\n\n    for (let i = 0; i < js_urls.length; i++) {\n      const url = js_urls[i];\n      const element = document.createElement('script');\n      element.onload = on_load;\n      element.onerror = on_error.bind(null, url);\n      element.async = false;\n      element.src = url;\n      if (url in hashes) {\n        element.crossOrigin = \"anonymous\";\n        element.integrity = \"sha384-\" + hashes[url];\n      }\n      console.debug(\"Bokeh: injecting script tag for BokehJS library: \", url);\n      document.head.appendChild(element);\n    }\n  };\n\n  function inject_raw_css(css) {\n    const element = document.createElement(\"style\");\n    element.appendChild(document.createTextNode(css));\n    document.body.appendChild(element);\n  }\n\n  \n  var js_urls = [\"https://cdn.bokeh.org/bokeh/release/bokeh-2.3.3.min.js\", \"https://cdn.bokeh.org/bokeh/release/bokeh-widgets-2.3.3.min.js\", \"https://cdn.bokeh.org/bokeh/release/bokeh-tables-2.3.3.min.js\"];\n  var css_urls = [];\n  \n\n  var inline_js = [\n    function(Bokeh) {\n      Bokeh.set_log_level(\"info\");\n    },\n    function(Bokeh) {\n    \n    \n    }\n  ];\n\n  function run_inline_js() {\n    \n    if (root.Bokeh !== undefined || force === true) {\n      \n    for (var i = 0; i < inline_js.length; i++) {\n      inline_js[i].call(root, root.Bokeh);\n    }\n    } else if (Date.now() < root._bokeh_timeout) {\n      setTimeout(run_inline_js, 100);\n    } else if (!root._bokeh_failed_load) {\n      console.log(\"Bokeh: BokehJS failed to load within specified timeout.\");\n      root._bokeh_failed_load = true;\n    } else if (force !== true) {\n      var cell = $(document.getElementById(null)).parents('.cell').data().cell;\n      cell.output_area.append_execute_result(NB_LOAD_WARNING)\n    }\n\n  }\n\n  if (root._bokeh_is_loading === 0) {\n    console.debug(\"Bokeh: BokehJS loaded, going straight to plotting\");\n    run_inline_js();\n  } else {\n    load_libs(css_urls, js_urls, function() {\n      console.debug(\"Bokeh: BokehJS plotting callback run at\", now());\n      run_inline_js();\n    });\n  }\n}(window));",
            "application/vnd.bokehjs_load.v0+json": ""
          },
          "metadata": {},
          "output_type": "display_data"
        },
        {
          "data": {
            "text/html": [
              "\n",
              "\n",
              "\n",
              "\n",
              "\n",
              "\n",
              "  <div class=\"bk-root\" id=\"f5db2879-5af0-4b50-997b-b48ae6b7d878\" data-root-id=\"1494\"></div>\n"
            ]
          },
          "metadata": {},
          "output_type": "display_data"
        },
        {
          "data": {
            "application/javascript": "(function(root) {\n  function embed_document(root) {\n    \n  var docs_json = {\"e78e30d4-6548-460c-9116-069ba557eba6\":{\"defs\":[],\"roots\":{\"references\":[{\"attributes\":{\"below\":[{\"id\":\"1503\"}],\"center\":[{\"id\":\"1506\"},{\"id\":\"1510\"}],\"height\":200,\"left\":[{\"id\":\"1507\"}],\"renderers\":[{\"id\":\"1530\"}],\"title\":{\"id\":\"1533\"},\"toolbar\":{\"id\":\"1517\"},\"width\":500,\"x_range\":{\"id\":\"1495\"},\"x_scale\":{\"id\":\"1499\"},\"y_range\":{\"id\":\"1497\"},\"y_scale\":{\"id\":\"1501\"}},\"id\":\"1494\",\"subtype\":\"Figure\",\"type\":\"Plot\"},{\"attributes\":{\"axis\":{\"id\":\"1503\"},\"ticker\":null},\"id\":\"1506\",\"type\":\"Grid\"},{\"attributes\":{\"bottom\":{\"field\":\"bottom\"},\"fill_alpha\":{\"field\":\"fill_alpha\"},\"fill_color\":{\"value\":\"#d53e4f\"},\"left\":{\"field\":\"start_time\"},\"right\":{\"field\":\"end_time\"},\"top\":{\"field\":\"top\"}},\"id\":\"1528\",\"type\":\"Quad\"},{\"attributes\":{},\"id\":\"1504\",\"type\":\"BasicTicker\"},{\"attributes\":{\"axis\":{\"id\":\"1507\"},\"dimension\":1,\"ticker\":{\"id\":\"1525\"}},\"id\":\"1510\",\"type\":\"Grid\"},{\"attributes\":{\"bottom_units\":\"screen\",\"fill_alpha\":0.5,\"fill_color\":\"lightgrey\",\"left_units\":\"screen\",\"level\":\"overlay\",\"line_alpha\":1.0,\"line_color\":\"black\",\"line_dash\":[4,4],\"line_width\":2,\"right_units\":\"screen\",\"syncable\":false,\"top_units\":\"screen\"},\"id\":\"1516\",\"type\":\"BoxAnnotation\"},{\"attributes\":{},\"id\":\"1497\",\"type\":\"DataRange1d\"},{\"attributes\":{},\"id\":\"1541\",\"type\":\"Selection\"},{\"attributes\":{\"callback\":null,\"tooltips\":[[\"pitch\",\"@pitch\"],[\"program\",\"@program\"],[\"velo\",\"@velocity\"],[\"duration\",\"@duration\"],[\"start_time\",\"@start_time\"],[\"end_time\",\"@end_time\"],[\"velocity\",\"@velocity\"],[\"fill_alpha\",\"@fill_alpha\"]]},\"id\":\"1511\",\"type\":\"HoverTool\"},{\"attributes\":{},\"id\":\"1538\",\"type\":\"AllLabels\"},{\"attributes\":{},\"id\":\"1536\",\"type\":\"BasicTickFormatter\"},{\"attributes\":{\"axis_label\":\"time (sec)\",\"formatter\":{\"id\":\"1536\"},\"major_label_policy\":{\"id\":\"1538\"},\"ticker\":{\"id\":\"1504\"}},\"id\":\"1503\",\"type\":\"LinearAxis\"},{\"attributes\":{},\"id\":\"1495\",\"type\":\"DataRange1d\"},{\"attributes\":{},\"id\":\"1512\",\"type\":\"PanTool\"},{\"attributes\":{},\"id\":\"1535\",\"type\":\"AllLabels\"},{\"attributes\":{},\"id\":\"1515\",\"type\":\"SaveTool\"},{\"attributes\":{\"data\":{\"bottom\":{\"__ndarray__\":\"zczMzMxMTkBmZmZmZuZXQGZmZmZmplFAzczMzMzMQkDNzMzMzExJQGZmZmZmZlFAzczMzMzMTkBmZmZmZmZSQGZmZmZmplRAZmZmZmZmVEDNzMzMzExFQGZmZmZmZlBAzczMzMxMSEBmZmZmZqZUQGZmZmZm5lVAZmZmZmYmV0DNzMzMzMxMQGZmZmZm5ldAmpmZmZmZP0DNzMzMzExLQM3MzMzMTEpAZmZmZmYmWEBmZmZmZqZTQGZmZmZmpldAzczMzMxMQkBmZmZmZqZRQM3MzMzMzEJAZmZmZmamWEBmZmZmZqZVQGZmZmZmplJAzczMzMxMRUDNzMzMzExIQGZmZmZmplZAZmZmZmbmVUBmZmZmZiZUQM3MzMzMTEZAZmZmZmamWUBmZmZmZmZXQGZmZmZmZlpAzczMzMxMS0CamZmZmZk6QJqZmZmZmTZAmpmZmZmZPUBmZmZmZqZRQGZmZmZmJlNAmpmZmZmZNEBmZmZmZiZTQGZmZmZmJlBAZmZmZmYmUUCamZmZmZk0QGZmZmZm5lNAZmZmZmYmVkBmZmZmZmZUQGZmZmZmplpAZmZmZmamVEDNzMzMzMxCQGZmZmZmplZAZmZmZmZmVUDNzMzMzExBQM3MzMzMTE9AzczMzMxMT0BmZmZmZiZRQGZmZmZmJlVAZmZmZmZmUUCamZmZmZk4QGZmZmZmpllAzczMzMxMSUBmZmZmZuZSQM3MzMzMTE1AmpmZmZmZOUBmZmZmZuZVQGZmZmZmplFAmpmZmZmZNkDNzMzMzMxIQM3MzMzMTEZAmpmZmZmZNEBmZmZmZuZWQGZmZmZm5lJAZmZmZmbmU0DNzMzMzExBQM3MzMzMzE1AmpmZmZmZN0BmZmZmZqZaQM3MzMzMTE1AZmZmZmZmUUBmZmZmZqZQQGZmZmZm5lVAZmZmZmbmUkCamZmZmZk2QA==\",\"dtype\":\"float64\",\"order\":\"little\",\"shape\":[89]},\"duration\":{\"__ndarray__\":\"AAAAAAAAwD8AAAAAAADAPwAAAAAAAMA/AAAAAAAAwD8AAAAAAADAPwAAAAAAAMA/AAAAAAAAwD8AAAAAAADAPwAAAAAAAMA/AAAAAAAA0D8AAAAAAADAPwAAAAAAAMA/AAAAAAAAwD8AAAAAAADAPwAAAAAAAMA/AAAAAAAAwD8AAAAAAADAPwAAAAAAAMA/AAAAAAAAwD8AAAAAAADAPwAAAAAAAMA/AAAAAAAAwD8AAAAAAADAPwAAAAAAAMA/AAAAAAAAwD8AAAAAAADAPwAAAAAAAMA/AAAAAAAAwD8AAAAAAADAPwAAAAAAAMA/AAAAAAAAwD8AAAAAAADAPwAAAAAAAMA/AAAAAAAAwD8AAAAAAADAPwAAAAAAAMA/AAAAAAAAwD8AAAAAAADAPwAAAAAAAMA/AAAAAAAAwD8AAAAAAADAPwAAAAAAAMA/AAAAAAAAwD8AAAAAAADAPwAAAAAAAMA/AAAAAAAAwD8AAAAAAADAPwAAAAAAAMA/AAAAAAAAwD8AAAAAAADAPwAAAAAAAMA/AAAAAAAAwD8AAAAAAADAPwAAAAAAAMA/AAAAAAAAwD8AAAAAAADAPwAAAAAAAMA/AAAAAAAAwD8AAAAAAADAPwAAAAAAAMA/AAAAAAAAwD8AAAAAAADAPwAAAAAAAMA/AAAAAAAAwD8AAAAAAADAPwAAAAAAAMA/AAAAAAAAwD8AAAAAAADAPwAAAAAAAMA/AAAAAAAAwD8AAAAAAADAPwAAAAAAAMA/AAAAAAAAwD8AAAAAAADAPwAAAAAAAMA/AAAAAAAAwD8AAAAAAADAPwAAAAAAAMA/AAAAAAAAwD8AAAAAAADAPwAAAAAAAMA/AAAAAAAAwD8AAAAAAADAPwAAAAAAAMA/AAAAAAAAwD8AAAAAAADAPwAAAAAAAMA/AAAAAAAAwD8AAAAAAADAPw==\",\"dtype\":\"float64\",\"order\":\"little\",\"shape\":[89]},\"end_time\":{\"__ndarray__\":\"AAAAAAAAwD8AAAAAAADQPwAAAAAAANg/AAAAAAAA4D8AAAAAAADkPwAAAAAAAOg/AAAAAAAA7D8AAAAAAADwPwAAAAAAAPI/AAAAAAAA9j8AAAAAAAD4PwAAAAAAAPo/AAAAAAAA/D8AAAAAAAD+PwAAAAAAAABAAAAAAAAAAUAAAAAAAAACQAAAAAAAAANAAAAAAAAABEAAAAAAAAAFQAAAAAAAAAZAAAAAAAAAB0AAAAAAAAAIQAAAAAAAAAlAAAAAAAAACkAAAAAAAAALQAAAAAAAAAxAAAAAAAAADUAAAAAAAAAOQAAAAAAAAA9AAAAAAAAAEEAAAAAAAIAQQAAAAAAAABFAAAAAAACAEUAAAAAAAAASQAAAAAAAgBJAAAAAAAAAE0AAAAAAAIATQAAAAAAAABRAAAAAAACAFEAAAAAAAAAVQAAAAAAAgBVAAAAAAAAAFkAAAAAAAIAWQAAAAAAAABdAAAAAAACAF0AAAAAAAAAYQAAAAAAAgBhAAAAAAAAAGUAAAAAAAIAZQAAAAAAAABpAAAAAAACAGkAAAAAAAAAbQAAAAAAAgBtAAAAAAAAAHEAAAAAAAIAcQAAAAAAAAB1AAAAAAACAHUAAAAAAAAAeQAAAAAAAgB5AAAAAAAAAH0AAAAAAAIAfQAAAAAAAACBAAAAAAABAIEAAAAAAAIAgQAAAAAAAwCBAAAAAAAAAIUAAAAAAAEAhQAAAAAAAgCFAAAAAAADAIUAAAAAAAAAiQAAAAAAAQCJAAAAAAACAIkAAAAAAAMAiQAAAAAAAACNAAAAAAABAI0AAAAAAAIAjQAAAAAAAwCNAAAAAAAAAJEAAAAAAAEAkQAAAAAAAgCRAAAAAAADAJEAAAAAAAAAlQAAAAAAAQCVAAAAAAACAJUAAAAAAAMAlQAAAAAAAACZAAAAAAABAJkAAAAAAAIAmQA==\",\"dtype\":\"float64\",\"order\":\"little\",\"shape\":[89]},\"fill_alpha\":{\"__ndarray__\":\"AAAAAAAA8D8AAAAAAADwPwAAAAAAAPA/AAAAAAAA8D8AAAAAAADwPwAAAAAAAPA/AAAAAAAA8D8AAAAAAADwPwAAAAAAAPA/AAAAAAAA8D8AAAAAAADwPwAAAAAAAPA/AAAAAAAA8D8AAAAAAADwPwAAAAAAAPA/AAAAAAAA8D8AAAAAAADwPwAAAAAAAPA/AAAAAAAA8D8AAAAAAADwPwAAAAAAAPA/AAAAAAAA8D8AAAAAAADwPwAAAAAAAPA/AAAAAAAA8D8AAAAAAADwPwAAAAAAAPA/AAAAAAAA8D8AAAAAAADwPwAAAAAAAPA/AAAAAAAA8D8AAAAAAADwPwAAAAAAAPA/AAAAAAAA8D8AAAAAAADwPwAAAAAAAPA/AAAAAAAA8D8AAAAAAADwPwAAAAAAAPA/AAAAAAAA8D8AAAAAAADwPwAAAAAAAPA/AAAAAAAA8D8AAAAAAADwPwAAAAAAAPA/AAAAAAAA8D8AAAAAAADwPwAAAAAAAPA/AAAAAAAA8D8AAAAAAADwPwAAAAAAAPA/AAAAAAAA8D8AAAAAAADwPwAAAAAAAPA/AAAAAAAA8D8AAAAAAADwPwAAAAAAAPA/AAAAAAAA8D8AAAAAAADwPwAAAAAAAPA/AAAAAAAA8D8AAAAAAADwPwAAAAAAAPA/AAAAAAAA8D8AAAAAAADwPwAAAAAAAPA/AAAAAAAA8D8AAAAAAADwPwAAAAAAAPA/AAAAAAAA8D8AAAAAAADwPwAAAAAAAPA/AAAAAAAA8D8AAAAAAADwPwAAAAAAAPA/AAAAAAAA8D8AAAAAAADwPwAAAAAAAPA/AAAAAAAA8D8AAAAAAADwPwAAAAAAAPA/AAAAAAAA8D8AAAAAAADwPwAAAAAAAPA/AAAAAAAA8D8AAAAAAADwPwAAAAAAAPA/AAAAAAAA8D8AAAAAAADwPw==\",\"dtype\":\"float64\",\"order\":\"little\",\"shape\":[89]},\"index\":[0,1,2,3,4,5,6,7,8,9,10,11,12,13,14,15,16,17,18,19,20,21,22,23,24,25,26,27,28,29,30,31,32,33,34,35,36,37,38,39,40,41,42,43,44,45,46,47,48,49,50,51,52,53,54,55,56,57,58,59,60,61,62,63,64,65,66,67,68,69,70,71,72,73,74,75,76,77,78,79,80,81,82,83,84,85,86,87,88],\"instrument\":[0,0,0,0,0,0,0,0,0,0,0,0,0,0,0,0,0,0,0,0,0,0,0,0,0,0,0,0,0,0,0,0,0,0,0,0,0,0,0,0,0,0,0,0,0,0,0,0,0,0,0,0,0,0,0,0,0,0,0,0,0,0,0,0,0,0,0,0,0,0,0,0,0,0,0,0,0,0,0,0,0,0,0,0,0,0,0,0,0],\"pitch\":[61,96,71,38,51,70,62,74,83,82,43,66,49,83,88,93,58,96,32,55,53,97,79,95,37,71,38,99,87,75,43,49,91,88,81,45,103,94,106,55,27,23,30,71,77,21,77,65,69,21,80,89,82,107,83,38,91,86,35,63,63,69,85,70,25,103,51,76,59,26,88,71,23,50,45,21,92,76,80,35,60,24,107,59,70,67,88,76,23],\"program\":[0,0,0,0,0,0,0,0,0,0,0,0,0,0,0,0,0,0,0,0,0,0,0,0,0,0,0,0,0,0,0,0,0,0,0,0,0,0,0,0,0,0,0,0,0,0,0,0,0,0,0,0,0,0,0,0,0,0,0,0,0,0,0,0,0,0,0,0,0,0,0,0,0,0,0,0,0,0,0,0,0,0,0,0,0,0,0,0,0],\"start_time\":{\"__ndarray__\":\"AAAAAAAAAAAAAAAAAADAPwAAAAAAANA/AAAAAAAA2D8AAAAAAADgPwAAAAAAAOQ/AAAAAAAA6D8AAAAAAADsPwAAAAAAAPA/AAAAAAAA8j8AAAAAAAD2PwAAAAAAAPg/AAAAAAAA+j8AAAAAAAD8PwAAAAAAAP4/AAAAAAAAAEAAAAAAAAABQAAAAAAAAAJAAAAAAAAAA0AAAAAAAAAEQAAAAAAAAAVAAAAAAAAABkAAAAAAAAAHQAAAAAAAAAhAAAAAAAAACUAAAAAAAAAKQAAAAAAAAAtAAAAAAAAADEAAAAAAAAANQAAAAAAAAA5AAAAAAAAAD0AAAAAAAAAQQAAAAAAAgBBAAAAAAAAAEUAAAAAAAIARQAAAAAAAABJAAAAAAACAEkAAAAAAAAATQAAAAAAAgBNAAAAAAAAAFEAAAAAAAIAUQAAAAAAAABVAAAAAAACAFUAAAAAAAAAWQAAAAAAAgBZAAAAAAAAAF0AAAAAAAIAXQAAAAAAAABhAAAAAAACAGEAAAAAAAAAZQAAAAAAAgBlAAAAAAAAAGkAAAAAAAIAaQAAAAAAAABtAAAAAAACAG0AAAAAAAAAcQAAAAAAAgBxAAAAAAAAAHUAAAAAAAIAdQAAAAAAAAB5AAAAAAACAHkAAAAAAAAAfQAAAAAAAgB9AAAAAAAAAIEAAAAAAAEAgQAAAAAAAgCBAAAAAAADAIEAAAAAAAAAhQAAAAAAAQCFAAAAAAACAIUAAAAAAAMAhQAAAAAAAACJAAAAAAABAIkAAAAAAAIAiQAAAAAAAwCJAAAAAAAAAI0AAAAAAAEAjQAAAAAAAgCNAAAAAAADAI0AAAAAAAAAkQAAAAAAAQCRAAAAAAACAJEAAAAAAAMAkQAAAAAAAACVAAAAAAABAJUAAAAAAAIAlQAAAAAAAwCVAAAAAAAAAJkAAAAAAAEAmQA==\",\"dtype\":\"float64\",\"order\":\"little\",\"shape\":[89]},\"top\":{\"__ndarray__\":\"MzMzMzOzTkCamZmZmRlYQJqZmZmZ2VFAMzMzMzMzQ0AzMzMzM7NJQJqZmZmZmVFAMzMzMzMzT0CamZmZmZlSQJqZmZmZ2VRAmpmZmZmZVEAzMzMzM7NFQJqZmZmZmVBAMzMzMzOzSECamZmZmdlUQJqZmZmZGVZAmpmZmZlZV0AzMzMzMzNNQJqZmZmZGVhAMzMzMzMzQEAzMzMzM7NLQDMzMzMzs0pAmpmZmZlZWECamZmZmdlTQJqZmZmZ2VdAMzMzMzOzQkCamZmZmdlRQDMzMzMzM0NAmpmZmZnZWECamZmZmdlVQJqZmZmZ2VJAMzMzMzOzRUAzMzMzM7NIQJqZmZmZ2VZAmpmZmZkZVkCamZmZmVlUQDMzMzMzs0ZAmpmZmZnZWUCamZmZmZlXQJqZmZmZmVpAMzMzMzOzS0BmZmZmZmY7QGZmZmZmZjdAZmZmZmZmPkCamZmZmdlRQJqZmZmZWVNAZmZmZmZmNUCamZmZmVlTQJqZmZmZWVBAmpmZmZlZUUBmZmZmZmY1QJqZmZmZGVRAmpmZmZlZVkCamZmZmZlUQJqZmZmZ2VpAmpmZmZnZVEAzMzMzMzNDQJqZmZmZ2VZAmpmZmZmZVUAzMzMzM7NBQDMzMzMzs09AMzMzMzOzT0CamZmZmVlRQJqZmZmZWVVAmpmZmZmZUUBmZmZmZmY5QJqZmZmZ2VlAMzMzMzOzSUCamZmZmRlTQDMzMzMzs01AZmZmZmZmOkCamZmZmRlWQJqZmZmZ2VFAZmZmZmZmN0AzMzMzMzNJQDMzMzMzs0ZAZmZmZmZmNUCamZmZmRlXQJqZmZmZGVNAmpmZmZkZVEAzMzMzM7NBQDMzMzMzM05AZmZmZmZmOECamZmZmdlaQDMzMzMzs01AmpmZmZmZUUCamZmZmdlQQJqZmZmZGVZAmpmZmZkZU0BmZmZmZmY3QA==\",\"dtype\":\"float64\",\"order\":\"little\",\"shape\":[89]},\"velocity\":[80,80,80,80,80,80,80,80,80,80,80,80,80,80,80,80,80,80,80,80,80,80,80,80,80,80,80,80,80,80,80,80,80,80,80,80,80,80,80,80,80,80,80,80,80,80,80,80,80,80,80,80,80,80,80,80,80,80,80,80,80,80,80,80,80,80,80,80,80,80,80,80,80,80,80,80,80,80,80,80,80,80,80,80,80,80,80,80,80]},\"selected\":{\"id\":\"1541\"},\"selection_policy\":{\"id\":\"1540\"}},\"id\":\"1526\",\"type\":\"ColumnDataSource\"},{\"attributes\":{},\"id\":\"1540\",\"type\":\"UnionRenderers\"},{\"attributes\":{},\"id\":\"1533\",\"type\":\"Title\"},{\"attributes\":{\"overlay\":{\"id\":\"1516\"}},\"id\":\"1513\",\"type\":\"BoxZoomTool\"},{\"attributes\":{},\"id\":\"1501\",\"type\":\"LinearScale\"},{\"attributes\":{},\"id\":\"1534\",\"type\":\"BasicTickFormatter\"},{\"attributes\":{\"interval\":12},\"id\":\"1525\",\"type\":\"SingleIntervalTicker\"},{\"attributes\":{\"source\":{\"id\":\"1526\"}},\"id\":\"1531\",\"type\":\"CDSView\"},{\"attributes\":{\"data_source\":{\"id\":\"1526\"},\"glyph\":{\"id\":\"1528\"},\"hover_glyph\":null,\"muted_glyph\":null,\"nonselection_glyph\":{\"id\":\"1529\"},\"view\":{\"id\":\"1531\"}},\"id\":\"1530\",\"type\":\"GlyphRenderer\"},{\"attributes\":{\"axis_label\":\"pitch (MIDI)\",\"formatter\":{\"id\":\"1534\"},\"major_label_policy\":{\"id\":\"1535\"},\"ticker\":{\"id\":\"1523\"}},\"id\":\"1507\",\"type\":\"LinearAxis\"},{\"attributes\":{\"active_multi\":null,\"tools\":[{\"id\":\"1511\"},{\"id\":\"1512\"},{\"id\":\"1513\"},{\"id\":\"1514\"},{\"id\":\"1515\"}]},\"id\":\"1517\",\"type\":\"Toolbar\"},{\"attributes\":{},\"id\":\"1499\",\"type\":\"LinearScale\"},{\"attributes\":{\"bottom\":{\"field\":\"bottom\"},\"fill_alpha\":{\"value\":0.1},\"fill_color\":{\"value\":\"#d53e4f\"},\"left\":{\"field\":\"start_time\"},\"line_alpha\":{\"value\":0.1},\"right\":{\"field\":\"end_time\"},\"top\":{\"field\":\"top\"}},\"id\":\"1529\",\"type\":\"Quad\"},{\"attributes\":{\"interval\":12},\"id\":\"1523\",\"type\":\"SingleIntervalTicker\"},{\"attributes\":{},\"id\":\"1514\",\"type\":\"ResetTool\"}],\"root_ids\":[\"1494\"]},\"title\":\"Bokeh Application\",\"version\":\"2.3.3\"}};\n  var render_items = [{\"docid\":\"e78e30d4-6548-460c-9116-069ba557eba6\",\"root_ids\":[\"1494\"],\"roots\":{\"1494\":\"f5db2879-5af0-4b50-997b-b48ae6b7d878\"}}];\n  root.Bokeh.embed.embed_items_notebook(docs_json, render_items);\n\n  }\n  if (root.Bokeh !== undefined) {\n    embed_document(root);\n  } else {\n    var attempts = 0;\n    var timer = setInterval(function(root) {\n      if (root.Bokeh !== undefined) {\n        clearInterval(timer);\n        embed_document(root);\n      } else {\n        attempts++;\n        if (attempts > 100) {\n          clearInterval(timer);\n          console.log(\"Bokeh: ERROR: Unable to run BokehJS code because BokehJS library is missing\");\n        }\n      }\n    }, 10, root)\n  }\n})(window);",
            "application/vnd.bokehjs_exec.v0+json": ""
          },
          "metadata": {
            "application/vnd.bokehjs_exec.v0+json": {
              "id": "1494"
            }
          },
          "output_type": "display_data"
        },
        {
          "data": {
            "text/html": [
              "\n",
              "\n",
              "\n",
              "\n",
              "\n",
              "\n",
              "  <div class=\"bk-root\" id=\"fe088b22-0716-4614-bd46-43c232626202\" data-root-id=\"1642\"></div>\n"
            ]
          },
          "metadata": {},
          "output_type": "display_data"
        },
        {
          "data": {
            "application/javascript": "(function(root) {\n  function embed_document(root) {\n    \n  var docs_json = {\"614c217e-9d5e-4359-9e5b-4f7f30e3d9d4\":{\"defs\":[],\"roots\":{\"references\":[{\"attributes\":{\"below\":[{\"id\":\"1651\"}],\"center\":[{\"id\":\"1654\"},{\"id\":\"1658\"}],\"height\":200,\"left\":[{\"id\":\"1655\"}],\"renderers\":[{\"id\":\"1678\"}],\"title\":{\"id\":\"1681\"},\"toolbar\":{\"id\":\"1665\"},\"width\":500,\"x_range\":{\"id\":\"1643\"},\"x_scale\":{\"id\":\"1647\"},\"y_range\":{\"id\":\"1645\"},\"y_scale\":{\"id\":\"1649\"}},\"id\":\"1642\",\"subtype\":\"Figure\",\"type\":\"Plot\"},{\"attributes\":{\"interval\":12},\"id\":\"1673\",\"type\":\"SingleIntervalTicker\"},{\"attributes\":{},\"id\":\"1688\",\"type\":\"UnionRenderers\"},{\"attributes\":{},\"id\":\"1663\",\"type\":\"SaveTool\"},{\"attributes\":{\"overlay\":{\"id\":\"1664\"}},\"id\":\"1661\",\"type\":\"BoxZoomTool\"},{\"attributes\":{\"active_multi\":null,\"tools\":[{\"id\":\"1659\"},{\"id\":\"1660\"},{\"id\":\"1661\"},{\"id\":\"1662\"},{\"id\":\"1663\"}]},\"id\":\"1665\",\"type\":\"Toolbar\"},{\"attributes\":{\"interval\":12},\"id\":\"1671\",\"type\":\"SingleIntervalTicker\"},{\"attributes\":{},\"id\":\"1683\",\"type\":\"AllLabels\"},{\"attributes\":{},\"id\":\"1682\",\"type\":\"BasicTickFormatter\"},{\"attributes\":{},\"id\":\"1660\",\"type\":\"PanTool\"},{\"attributes\":{\"bottom_units\":\"screen\",\"fill_alpha\":0.5,\"fill_color\":\"lightgrey\",\"left_units\":\"screen\",\"level\":\"overlay\",\"line_alpha\":1.0,\"line_color\":\"black\",\"line_dash\":[4,4],\"line_width\":2,\"right_units\":\"screen\",\"syncable\":false,\"top_units\":\"screen\"},\"id\":\"1664\",\"type\":\"BoxAnnotation\"},{\"attributes\":{},\"id\":\"1681\",\"type\":\"Title\"},{\"attributes\":{\"callback\":null,\"tooltips\":[[\"pitch\",\"@pitch\"],[\"program\",\"@program\"],[\"velo\",\"@velocity\"],[\"duration\",\"@duration\"],[\"start_time\",\"@start_time\"],[\"end_time\",\"@end_time\"],[\"velocity\",\"@velocity\"],[\"fill_alpha\",\"@fill_alpha\"]]},\"id\":\"1659\",\"type\":\"HoverTool\"},{\"attributes\":{\"source\":{\"id\":\"1674\"}},\"id\":\"1679\",\"type\":\"CDSView\"},{\"attributes\":{},\"id\":\"1652\",\"type\":\"BasicTicker\"},{\"attributes\":{},\"id\":\"1662\",\"type\":\"ResetTool\"},{\"attributes\":{\"data\":{\"bottom\":{\"__ndarray__\":\"ZmZmZmZmWkBmZmZmZiZUQGZmZmZmZlZAZmZmZmYmVEDNzMzMzMxHQJqZmZmZmT5AZmZmZmbmV0CamZmZmZk2QGZmZmZm5lFAmpmZmZmZNkDNzMzMzMxMQJqZmZmZmT9AZmZmZmbmUEDNzMzMzExOQGZmZmZm5ldAZmZmZmYmUkDNzMzMzExEQGZmZmZm5lBAzczMzMzMS0DNzMzMzMxJQM3MzMzMTEBAmpmZmZmZOEDNzMzMzExPQGZmZmZm5lFAzczMzMzMQEDNzMzMzExGQJqZmZmZmTpAZmZmZmYmUkDNzMzMzExMQM3MzMzMzEVAZmZmZmamUUDNzMzMzExOQJqZmZmZmTZAzczMzMxMSUBmZmZmZuZVQGZmZmZm5ldAzczMzMxMSEDNzMzMzMxNQM3MzMzMTEVAzczMzMzMTkCamZmZmZk3QGZmZmZm5lhAzczMzMxMRUBmZmZmZmZQQGZmZmZmZlVAzczMzMxMRUDNzMzMzExMQJqZmZmZmTxAzczMzMzMTUDNzMzMzMxDQGZmZmZmJlRAZmZmZmamUUBmZmZmZiZQQGZmZmZmplZAzczMzMzMQ0BmZmZmZuZRQGZmZmZm5ldAZmZmZmbmVUDNzMzMzMxNQGZmZmZm5ldAzczMzMzMS0BmZmZmZqZaQGZmZmZm5lpAzczMzMxMQECamZmZmZk8QM3MzMzMzEVAZmZmZmbmUkBmZmZmZuZSQGZmZmZmplVAZmZmZmamVkCamZmZmZk/QJqZmZmZmTRAzczMzMxMSUDNzMzMzMxHQGZmZmZm5lZAzczMzMzMTUDNzMzMzMxDQGZmZmZmZlNAZmZmZmZmWUDNzMzMzMxNQGZmZmZmZlpAZmZmZmYmUUDNzMzMzExGQM3MzMzMzEZAzczMzMxMTUBmZmZmZqZVQM3MzMzMzEhAzczMzMxMTUBmZmZmZuZSQGZmZmZmJllA\",\"dtype\":\"float64\",\"order\":\"little\",\"shape\":[90]},\"duration\":{\"__ndarray__\":\"AAAAAAAAwD8AAAAAAADAPwAAAAAAAMA/AAAAAAAAwD8AAAAAAADAPwAAAAAAAMA/AAAAAAAAwD8AAAAAAADAPwAAAAAAAMA/AAAAAAAAwD8AAAAAAADAPwAAAAAAAMA/AAAAAAAAwD8AAAAAAADAPwAAAAAAAMA/AAAAAAAAwD8AAAAAAADAPwAAAAAAAMA/AAAAAAAAwD8AAAAAAADAPwAAAAAAAMA/AAAAAAAAwD8AAAAAAADAPwAAAAAAAMA/AAAAAAAAwD8AAAAAAADAPwAAAAAAAMA/AAAAAAAAwD8AAAAAAADAPwAAAAAAAMA/AAAAAAAAwD8AAAAAAADAPwAAAAAAAMA/AAAAAAAAwD8AAAAAAADAPwAAAAAAAMA/AAAAAAAAwD8AAAAAAADAPwAAAAAAAMA/AAAAAAAAwD8AAAAAAADAPwAAAAAAAMA/AAAAAAAAwD8AAAAAAADAPwAAAAAAAMA/AAAAAAAAwD8AAAAAAADAPwAAAAAAAMA/AAAAAAAAwD8AAAAAAADAPwAAAAAAAMA/AAAAAAAAwD8AAAAAAADAPwAAAAAAAMA/AAAAAAAAwD8AAAAAAADAPwAAAAAAAMA/AAAAAAAAwD8AAAAAAADAPwAAAAAAAMA/AAAAAAAAwD8AAAAAAADAPwAAAAAAAMA/AAAAAAAAwD8AAAAAAADAPwAAAAAAAMA/AAAAAAAAwD8AAAAAAADAPwAAAAAAAMA/AAAAAAAAwD8AAAAAAADAPwAAAAAAAMA/AAAAAAAAwD8AAAAAAADAPwAAAAAAAMA/AAAAAAAAwD8AAAAAAADAPwAAAAAAAMA/AAAAAAAAwD8AAAAAAADAPwAAAAAAAMA/AAAAAAAAwD8AAAAAAADAPwAAAAAAAMA/AAAAAAAAwD8AAAAAAADAPwAAAAAAAMA/AAAAAAAAwD8AAAAAAADAPwAAAAAAAMA/\",\"dtype\":\"float64\",\"order\":\"little\",\"shape\":[90]},\"end_time\":{\"__ndarray__\":\"AAAAAAAAwD8AAAAAAADQPwAAAAAAANg/AAAAAAAA4D8AAAAAAADkPwAAAAAAAOg/AAAAAAAA7D8AAAAAAADwPwAAAAAAAPI/AAAAAAAA9D8AAAAAAAD2PwAAAAAAAPg/AAAAAAAA+j8AAAAAAAD8PwAAAAAAAP4/AAAAAAAAAEAAAAAAAAABQAAAAAAAAAJAAAAAAAAAA0AAAAAAAAAEQAAAAAAAAAVAAAAAAAAABkAAAAAAAAAHQAAAAAAAAAhAAAAAAAAACUAAAAAAAAAKQAAAAAAAAAtAAAAAAAAADEAAAAAAAAANQAAAAAAAAA5AAAAAAAAAD0AAAAAAAAAQQAAAAAAAgBBAAAAAAAAAEUAAAAAAAIARQAAAAAAAABJAAAAAAACAEkAAAAAAAAATQAAAAAAAgBNAAAAAAAAAFEAAAAAAAIAUQAAAAAAAABVAAAAAAACAFUAAAAAAAAAWQAAAAAAAgBZAAAAAAAAAF0AAAAAAAIAXQAAAAAAAABhAAAAAAACAGEAAAAAAAAAZQAAAAAAAgBlAAAAAAAAAGkAAAAAAAIAaQAAAAAAAABtAAAAAAACAG0AAAAAAAAAcQAAAAAAAgBxAAAAAAAAAHUAAAAAAAIAdQAAAAAAAAB5AAAAAAACAHkAAAAAAAAAfQAAAAAAAgB9AAAAAAAAAIEAAAAAAAEAgQAAAAAAAgCBAAAAAAADAIEAAAAAAAAAhQAAAAAAAQCFAAAAAAACAIUAAAAAAAMAhQAAAAAAAACJAAAAAAABAIkAAAAAAAIAiQAAAAAAAwCJAAAAAAAAAI0AAAAAAAEAjQAAAAAAAgCNAAAAAAADAI0AAAAAAAAAkQAAAAAAAQCRAAAAAAACAJEAAAAAAAMAkQAAAAAAAACVAAAAAAABAJUAAAAAAAIAlQAAAAAAAwCVAAAAAAAAAJkAAAAAAAEAmQAAAAAAAgCZA\",\"dtype\":\"float64\",\"order\":\"little\",\"shape\":[90]},\"fill_alpha\":{\"__ndarray__\":\"AAAAAAAA8D8AAAAAAADwPwAAAAAAAPA/AAAAAAAA8D8AAAAAAADwPwAAAAAAAPA/AAAAAAAA8D8AAAAAAADwPwAAAAAAAPA/AAAAAAAA8D8AAAAAAADwPwAAAAAAAPA/AAAAAAAA8D8AAAAAAADwPwAAAAAAAPA/AAAAAAAA8D8AAAAAAADwPwAAAAAAAPA/AAAAAAAA8D8AAAAAAADwPwAAAAAAAPA/AAAAAAAA8D8AAAAAAADwPwAAAAAAAPA/AAAAAAAA8D8AAAAAAADwPwAAAAAAAPA/AAAAAAAA8D8AAAAAAADwPwAAAAAAAPA/AAAAAAAA8D8AAAAAAADwPwAAAAAAAPA/AAAAAAAA8D8AAAAAAADwPwAAAAAAAPA/AAAAAAAA8D8AAAAAAADwPwAAAAAAAPA/AAAAAAAA8D8AAAAAAADwPwAAAAAAAPA/AAAAAAAA8D8AAAAAAADwPwAAAAAAAPA/AAAAAAAA8D8AAAAAAADwPwAAAAAAAPA/AAAAAAAA8D8AAAAAAADwPwAAAAAAAPA/AAAAAAAA8D8AAAAAAADwPwAAAAAAAPA/AAAAAAAA8D8AAAAAAADwPwAAAAAAAPA/AAAAAAAA8D8AAAAAAADwPwAAAAAAAPA/AAAAAAAA8D8AAAAAAADwPwAAAAAAAPA/AAAAAAAA8D8AAAAAAADwPwAAAAAAAPA/AAAAAAAA8D8AAAAAAADwPwAAAAAAAPA/AAAAAAAA8D8AAAAAAADwPwAAAAAAAPA/AAAAAAAA8D8AAAAAAADwPwAAAAAAAPA/AAAAAAAA8D8AAAAAAADwPwAAAAAAAPA/AAAAAAAA8D8AAAAAAADwPwAAAAAAAPA/AAAAAAAA8D8AAAAAAADwPwAAAAAAAPA/AAAAAAAA8D8AAAAAAADwPwAAAAAAAPA/AAAAAAAA8D8AAAAAAADwPwAAAAAAAPA/\",\"dtype\":\"float64\",\"order\":\"little\",\"shape\":[90]},\"index\":[0,1,2,3,4,5,6,7,8,9,10,11,12,13,14,15,16,17,18,19,20,21,22,23,24,25,26,27,28,29,30,31,32,33,34,35,36,37,38,39,40,41,42,43,44,45,46,47,48,49,50,51,52,53,54,55,56,57,58,59,60,61,62,63,64,65,66,67,68,69,70,71,72,73,74,75,76,77,78,79,80,81,82,83,84,85,86,87,88,89],\"instrument\":[0,0,0,0,0,0,0,0,0,0,0,0,0,0,0,0,0,0,0,0,0,0,0,0,0,0,0,0,0,0,0,0,0,0,0,0,0,0,0,0,0,0,0,0,0,0,0,0,0,0,0,0,0,0,0,0,0,0,0,0,0,0,0,0,0,0,0,0,0,0,0,0,0,0,0,0,0,0,0,0,0,0,0,0,0,0,0,0,0,0],\"pitch\":[106,81,90,81,48,31,96,23,72,23,58,32,68,61,96,73,41,68,56,52,33,25,63,72,34,45,27,73,57,44,71,61,23,51,88,96,49,60,43,62,24,100,43,66,86,43,57,29,60,40,81,71,65,91,40,72,96,88,60,96,56,107,108,33,29,44,76,76,87,91,32,21,51,48,92,60,40,78,102,60,106,69,45,46,59,87,50,59,76,101],\"program\":[0,0,0,0,0,0,0,0,0,0,0,0,0,0,0,0,0,0,0,0,0,0,0,0,0,0,0,0,0,0,0,0,0,0,0,0,0,0,0,0,0,0,0,0,0,0,0,0,0,0,0,0,0,0,0,0,0,0,0,0,0,0,0,0,0,0,0,0,0,0,0,0,0,0,0,0,0,0,0,0,0,0,0,0,0,0,0,0,0,0],\"start_time\":{\"__ndarray__\":\"AAAAAAAAAAAAAAAAAADAPwAAAAAAANA/AAAAAAAA2D8AAAAAAADgPwAAAAAAAOQ/AAAAAAAA6D8AAAAAAADsPwAAAAAAAPA/AAAAAAAA8j8AAAAAAAD0PwAAAAAAAPY/AAAAAAAA+D8AAAAAAAD6PwAAAAAAAPw/AAAAAAAA/j8AAAAAAAAAQAAAAAAAAAFAAAAAAAAAAkAAAAAAAAADQAAAAAAAAARAAAAAAAAABUAAAAAAAAAGQAAAAAAAAAdAAAAAAAAACEAAAAAAAAAJQAAAAAAAAApAAAAAAAAAC0AAAAAAAAAMQAAAAAAAAA1AAAAAAAAADkAAAAAAAAAPQAAAAAAAABBAAAAAAACAEEAAAAAAAAARQAAAAAAAgBFAAAAAAAAAEkAAAAAAAIASQAAAAAAAABNAAAAAAACAE0AAAAAAAAAUQAAAAAAAgBRAAAAAAAAAFUAAAAAAAIAVQAAAAAAAABZAAAAAAACAFkAAAAAAAAAXQAAAAAAAgBdAAAAAAAAAGEAAAAAAAIAYQAAAAAAAABlAAAAAAACAGUAAAAAAAAAaQAAAAAAAgBpAAAAAAAAAG0AAAAAAAIAbQAAAAAAAABxAAAAAAACAHEAAAAAAAAAdQAAAAAAAgB1AAAAAAAAAHkAAAAAAAIAeQAAAAAAAAB9AAAAAAACAH0AAAAAAAAAgQAAAAAAAQCBAAAAAAACAIEAAAAAAAMAgQAAAAAAAACFAAAAAAABAIUAAAAAAAIAhQAAAAAAAwCFAAAAAAAAAIkAAAAAAAEAiQAAAAAAAgCJAAAAAAADAIkAAAAAAAAAjQAAAAAAAQCNAAAAAAACAI0AAAAAAAMAjQAAAAAAAACRAAAAAAABAJEAAAAAAAIAkQAAAAAAAwCRAAAAAAAAAJUAAAAAAAEAlQAAAAAAAgCVAAAAAAADAJUAAAAAAAAAmQAAAAAAAQCZA\",\"dtype\":\"float64\",\"order\":\"little\",\"shape\":[90]},\"top\":{\"__ndarray__\":\"mpmZmZmZWkCamZmZmVlUQJqZmZmZmVZAmpmZmZlZVEAzMzMzMzNIQGZmZmZmZj9AmpmZmZkZWEBmZmZmZmY3QJqZmZmZGVJAZmZmZmZmN0AzMzMzMzNNQDMzMzMzM0BAmpmZmZkZUUAzMzMzM7NOQJqZmZmZGVhAmpmZmZlZUkAzMzMzM7NEQJqZmZmZGVFAMzMzMzMzTEAzMzMzMzNKQDMzMzMzs0BAZmZmZmZmOUAzMzMzM7NPQJqZmZmZGVJAMzMzMzMzQUAzMzMzM7NGQGZmZmZmZjtAmpmZmZlZUkAzMzMzM7NMQDMzMzMzM0ZAmpmZmZnZUUAzMzMzM7NOQGZmZmZmZjdAMzMzMzOzSUCamZmZmRlWQJqZmZmZGVhAMzMzMzOzSEAzMzMzMzNOQDMzMzMzs0VAMzMzMzMzT0BmZmZmZmY4QJqZmZmZGVlAMzMzMzOzRUCamZmZmZlQQJqZmZmZmVVAMzMzMzOzRUAzMzMzM7NMQGZmZmZmZj1AMzMzMzMzTkAzMzMzMzNEQJqZmZmZWVRAmpmZmZnZUUCamZmZmVlQQJqZmZmZ2VZAMzMzMzMzRECamZmZmRlSQJqZmZmZGVhAmpmZmZkZVkAzMzMzMzNOQJqZmZmZGVhAMzMzMzMzTECamZmZmdlaQJqZmZmZGVtAMzMzMzOzQEBmZmZmZmY9QDMzMzMzM0ZAmpmZmZkZU0CamZmZmRlTQJqZmZmZ2VVAmpmZmZnZVkAzMzMzMzNAQGZmZmZmZjVAMzMzMzOzSUAzMzMzMzNIQJqZmZmZGVdAMzMzMzMzTkAzMzMzMzNEQJqZmZmZmVNAmpmZmZmZWUAzMzMzMzNOQJqZmZmZmVpAmpmZmZlZUUAzMzMzM7NGQDMzMzMzM0dAMzMzMzOzTUCamZmZmdlVQDMzMzMzM0lAMzMzMzOzTUCamZmZmRlTQJqZmZmZWVlA\",\"dtype\":\"float64\",\"order\":\"little\",\"shape\":[90]},\"velocity\":[80,80,80,80,80,80,80,80,80,80,80,80,80,80,80,80,80,80,80,80,80,80,80,80,80,80,80,80,80,80,80,80,80,80,80,80,80,80,80,80,80,80,80,80,80,80,80,80,80,80,80,80,80,80,80,80,80,80,80,80,80,80,80,80,80,80,80,80,80,80,80,80,80,80,80,80,80,80,80,80,80,80,80,80,80,80,80,80,80,80]},\"selected\":{\"id\":\"1689\"},\"selection_policy\":{\"id\":\"1688\"}},\"id\":\"1674\",\"type\":\"ColumnDataSource\"},{\"attributes\":{\"bottom\":{\"field\":\"bottom\"},\"fill_alpha\":{\"value\":0.1},\"fill_color\":{\"value\":\"#d53e4f\"},\"left\":{\"field\":\"start_time\"},\"line_alpha\":{\"value\":0.1},\"right\":{\"field\":\"end_time\"},\"top\":{\"field\":\"top\"}},\"id\":\"1677\",\"type\":\"Quad\"},{\"attributes\":{\"data_source\":{\"id\":\"1674\"},\"glyph\":{\"id\":\"1676\"},\"hover_glyph\":null,\"muted_glyph\":null,\"nonselection_glyph\":{\"id\":\"1677\"},\"view\":{\"id\":\"1679\"}},\"id\":\"1678\",\"type\":\"GlyphRenderer\"},{\"attributes\":{},\"id\":\"1649\",\"type\":\"LinearScale\"},{\"attributes\":{\"bottom\":{\"field\":\"bottom\"},\"fill_alpha\":{\"field\":\"fill_alpha\"},\"fill_color\":{\"value\":\"#d53e4f\"},\"left\":{\"field\":\"start_time\"},\"right\":{\"field\":\"end_time\"},\"top\":{\"field\":\"top\"}},\"id\":\"1676\",\"type\":\"Quad\"},{\"attributes\":{\"axis_label\":\"pitch (MIDI)\",\"formatter\":{\"id\":\"1682\"},\"major_label_policy\":{\"id\":\"1683\"},\"ticker\":{\"id\":\"1671\"}},\"id\":\"1655\",\"type\":\"LinearAxis\"},{\"attributes\":{},\"id\":\"1645\",\"type\":\"DataRange1d\"},{\"attributes\":{\"axis\":{\"id\":\"1651\"},\"ticker\":null},\"id\":\"1654\",\"type\":\"Grid\"},{\"attributes\":{\"axis\":{\"id\":\"1655\"},\"dimension\":1,\"ticker\":{\"id\":\"1673\"}},\"id\":\"1658\",\"type\":\"Grid\"},{\"attributes\":{},\"id\":\"1647\",\"type\":\"LinearScale\"},{\"attributes\":{},\"id\":\"1689\",\"type\":\"Selection\"},{\"attributes\":{},\"id\":\"1643\",\"type\":\"DataRange1d\"},{\"attributes\":{},\"id\":\"1686\",\"type\":\"AllLabels\"},{\"attributes\":{\"axis_label\":\"time (sec)\",\"formatter\":{\"id\":\"1684\"},\"major_label_policy\":{\"id\":\"1686\"},\"ticker\":{\"id\":\"1652\"}},\"id\":\"1651\",\"type\":\"LinearAxis\"},{\"attributes\":{},\"id\":\"1684\",\"type\":\"BasicTickFormatter\"}],\"root_ids\":[\"1642\"]},\"title\":\"Bokeh Application\",\"version\":\"2.3.3\"}};\n  var render_items = [{\"docid\":\"614c217e-9d5e-4359-9e5b-4f7f30e3d9d4\",\"root_ids\":[\"1642\"],\"roots\":{\"1642\":\"fe088b22-0716-4614-bd46-43c232626202\"}}];\n  root.Bokeh.embed.embed_items_notebook(docs_json, render_items);\n\n  }\n  if (root.Bokeh !== undefined) {\n    embed_document(root);\n  } else {\n    var attempts = 0;\n    var timer = setInterval(function(root) {\n      if (root.Bokeh !== undefined) {\n        clearInterval(timer);\n        embed_document(root);\n      } else {\n        attempts++;\n        if (attempts > 100) {\n          clearInterval(timer);\n          console.log(\"Bokeh: ERROR: Unable to run BokehJS code because BokehJS library is missing\");\n        }\n      }\n    }, 10, root)\n  }\n})(window);",
            "application/vnd.bokehjs_exec.v0+json": ""
          },
          "metadata": {
            "application/vnd.bokehjs_exec.v0+json": {
              "id": "1642"
            }
          },
          "output_type": "display_data"
        },
        {
          "data": {
            "text/html": [
              "\n",
              "\n",
              "\n",
              "\n",
              "\n",
              "\n",
              "  <div class=\"bk-root\" id=\"ad6d5dc9-f77d-4078-a0e7-fa7d9f5292cb\" data-root-id=\"1800\"></div>\n"
            ]
          },
          "metadata": {},
          "output_type": "display_data"
        },
        {
          "data": {
            "application/javascript": "(function(root) {\n  function embed_document(root) {\n    \n  var docs_json = {\"6c2324f4-6f61-4928-b5bb-ec166c2f5b26\":{\"defs\":[],\"roots\":{\"references\":[{\"attributes\":{\"below\":[{\"id\":\"1809\"}],\"center\":[{\"id\":\"1812\"},{\"id\":\"1816\"}],\"height\":200,\"left\":[{\"id\":\"1813\"}],\"renderers\":[{\"id\":\"1836\"}],\"title\":{\"id\":\"1839\"},\"toolbar\":{\"id\":\"1823\"},\"width\":500,\"x_range\":{\"id\":\"1801\"},\"x_scale\":{\"id\":\"1805\"},\"y_range\":{\"id\":\"1803\"},\"y_scale\":{\"id\":\"1807\"}},\"id\":\"1800\",\"subtype\":\"Figure\",\"type\":\"Plot\"},{\"attributes\":{},\"id\":\"1847\",\"type\":\"Selection\"},{\"attributes\":{},\"id\":\"1805\",\"type\":\"LinearScale\"},{\"attributes\":{},\"id\":\"1844\",\"type\":\"AllLabels\"},{\"attributes\":{\"callback\":null,\"tooltips\":[[\"pitch\",\"@pitch\"],[\"program\",\"@program\"],[\"velo\",\"@velocity\"],[\"duration\",\"@duration\"],[\"start_time\",\"@start_time\"],[\"end_time\",\"@end_time\"],[\"velocity\",\"@velocity\"],[\"fill_alpha\",\"@fill_alpha\"]]},\"id\":\"1817\",\"type\":\"HoverTool\"},{\"attributes\":{},\"id\":\"1842\",\"type\":\"BasicTickFormatter\"},{\"attributes\":{},\"id\":\"1801\",\"type\":\"DataRange1d\"},{\"attributes\":{},\"id\":\"1803\",\"type\":\"DataRange1d\"},{\"attributes\":{},\"id\":\"1846\",\"type\":\"UnionRenderers\"},{\"attributes\":{},\"id\":\"1818\",\"type\":\"PanTool\"},{\"attributes\":{},\"id\":\"1841\",\"type\":\"AllLabels\"},{\"attributes\":{\"active_multi\":null,\"tools\":[{\"id\":\"1817\"},{\"id\":\"1818\"},{\"id\":\"1819\"},{\"id\":\"1820\"},{\"id\":\"1821\"}]},\"id\":\"1823\",\"type\":\"Toolbar\"},{\"attributes\":{},\"id\":\"1840\",\"type\":\"BasicTickFormatter\"},{\"attributes\":{\"data\":{\"bottom\":{\"__ndarray__\":\"mpmZmZmZNEBmZmZmZuZRQM3MzMzMzEhAZmZmZmZmVEBmZmZmZuZXQM3MzMzMzE5AZmZmZmamWUBmZmZmZqZRQM3MzMzMTE9AZmZmZmYmVkCamZmZmZk6QGZmZmZmplNAzczMzMxMQkBmZmZmZiZWQM3MzMzMTExAzczMzMxMT0DNzMzMzMxOQM3MzMzMTEdAZmZmZmZmUkDNzMzMzMxOQGZmZmZm5lZAZmZmZmZmU0BmZmZmZiZWQGZmZmZm5lZAZmZmZmYmV0CamZmZmZk8QM3MzMzMzERAzczMzMxMTUCamZmZmZk7QGZmZmZmJldAzczMzMzMS0BmZmZmZuZSQM3MzMzMTE9AZmZmZmZmUkDNzMzMzExLQGZmZmZmZlFAZmZmZmYmWUDNzMzMzMxHQM3MzMzMTEVAZmZmZmamVECamZmZmZk/QM3MzMzMTEhAZmZmZmYmU0DNzMzMzMxEQGZmZmZmJlVAzczMzMzMQ0BmZmZmZmZWQGZmZmZm5lhAzczMzMxMRkBmZmZmZuZVQGZmZmZmplRAzczMzMxMTkBmZmZmZuZQQGZmZmZmJlBAzczMzMxMQUDNzMzMzMxKQM3MzMzMzEpAmpmZmZmZOEBmZmZmZuZYQJqZmZmZmTVAZmZmZmZmU0BmZmZmZqZYQGZmZmZmZlRAZmZmZmZmVEBmZmZmZmZaQM3MzMzMTElAzczMzMzMTUCamZmZmZk6QJqZmZmZmT1AzczMzMzMQ0BmZmZmZqZaQGZmZmZmJlRAmpmZmZmZNEBmZmZmZuZXQGZmZmZmZlNAzczMzMxMQUDNzMzMzExGQJqZmZmZmTlAZmZmZmbmUUDNzMzMzMxEQM3MzMzMzEZAZmZmZmYmUUBmZmZmZuZaQM3MzMzMzEdAzczMzMxMQ0BmZmZmZmZVQGZmZmZmZlZAzczMzMzMR0CamZmZmZk9QGZmZmZmplVA\",\"dtype\":\"float64\",\"order\":\"little\",\"shape\":[90]},\"duration\":{\"__ndarray__\":\"AAAAAAAAwD8AAAAAAADAPwAAAAAAAMA/AAAAAAAAwD8AAAAAAADAPwAAAAAAAMA/AAAAAAAAwD8AAAAAAADAPwAAAAAAAMA/AAAAAAAAwD8AAAAAAADAPwAAAAAAAMA/AAAAAAAAwD8AAAAAAADAPwAAAAAAAMA/AAAAAAAAwD8AAAAAAADAPwAAAAAAAMA/AAAAAAAAwD8AAAAAAADAPwAAAAAAAMA/AAAAAAAAwD8AAAAAAADAPwAAAAAAAMA/AAAAAAAAwD8AAAAAAADAPwAAAAAAAMA/AAAAAAAAwD8AAAAAAADAPwAAAAAAAMA/AAAAAAAAwD8AAAAAAADAPwAAAAAAAMA/AAAAAAAAwD8AAAAAAADAPwAAAAAAAMA/AAAAAAAAwD8AAAAAAADAPwAAAAAAAMA/AAAAAAAAwD8AAAAAAADAPwAAAAAAAMA/AAAAAAAAwD8AAAAAAADAPwAAAAAAAMA/AAAAAAAAwD8AAAAAAADAPwAAAAAAAMA/AAAAAAAAwD8AAAAAAADAPwAAAAAAAMA/AAAAAAAAwD8AAAAAAADAPwAAAAAAAMA/AAAAAAAAwD8AAAAAAADAPwAAAAAAAMA/AAAAAAAAwD8AAAAAAADAPwAAAAAAAMA/AAAAAAAAwD8AAAAAAADAPwAAAAAAAMA/AAAAAAAAwD8AAAAAAADAPwAAAAAAAMA/AAAAAAAAwD8AAAAAAADAPwAAAAAAAMA/AAAAAAAAwD8AAAAAAADAPwAAAAAAAMA/AAAAAAAAwD8AAAAAAADAPwAAAAAAAMA/AAAAAAAAwD8AAAAAAADAPwAAAAAAAMA/AAAAAAAAwD8AAAAAAADAPwAAAAAAAMA/AAAAAAAAwD8AAAAAAADAPwAAAAAAAMA/AAAAAAAAwD8AAAAAAADAPwAAAAAAAMA/AAAAAAAAwD8AAAAAAADAPwAAAAAAAMA/\",\"dtype\":\"float64\",\"order\":\"little\",\"shape\":[90]},\"end_time\":{\"__ndarray__\":\"AAAAAAAAwD8AAAAAAADQPwAAAAAAANg/AAAAAAAA4D8AAAAAAADkPwAAAAAAAOg/AAAAAAAA7D8AAAAAAADwPwAAAAAAAPI/AAAAAAAA9D8AAAAAAAD2PwAAAAAAAPg/AAAAAAAA+j8AAAAAAAD8PwAAAAAAAP4/AAAAAAAAAEAAAAAAAAABQAAAAAAAAAJAAAAAAAAAA0AAAAAAAAAEQAAAAAAAAAVAAAAAAAAABkAAAAAAAAAHQAAAAAAAAAhAAAAAAAAACUAAAAAAAAAKQAAAAAAAAAtAAAAAAAAADEAAAAAAAAANQAAAAAAAAA5AAAAAAAAAD0AAAAAAAAAQQAAAAAAAgBBAAAAAAAAAEUAAAAAAAIARQAAAAAAAABJAAAAAAACAEkAAAAAAAAATQAAAAAAAgBNAAAAAAAAAFEAAAAAAAIAUQAAAAAAAABVAAAAAAACAFUAAAAAAAAAWQAAAAAAAgBZAAAAAAAAAF0AAAAAAAIAXQAAAAAAAABhAAAAAAACAGEAAAAAAAAAZQAAAAAAAgBlAAAAAAAAAGkAAAAAAAIAaQAAAAAAAABtAAAAAAACAG0AAAAAAAAAcQAAAAAAAgBxAAAAAAAAAHUAAAAAAAIAdQAAAAAAAAB5AAAAAAACAHkAAAAAAAAAfQAAAAAAAgB9AAAAAAAAAIEAAAAAAAEAgQAAAAAAAgCBAAAAAAADAIEAAAAAAAAAhQAAAAAAAQCFAAAAAAACAIUAAAAAAAMAhQAAAAAAAACJAAAAAAABAIkAAAAAAAIAiQAAAAAAAwCJAAAAAAAAAI0AAAAAAAEAjQAAAAAAAgCNAAAAAAADAI0AAAAAAAAAkQAAAAAAAQCRAAAAAAACAJEAAAAAAAMAkQAAAAAAAACVAAAAAAABAJUAAAAAAAIAlQAAAAAAAwCVAAAAAAAAAJkAAAAAAAEAmQAAAAAAAgCZA\",\"dtype\":\"float64\",\"order\":\"little\",\"shape\":[90]},\"fill_alpha\":{\"__ndarray__\":\"AAAAAAAA8D8AAAAAAADwPwAAAAAAAPA/AAAAAAAA8D8AAAAAAADwPwAAAAAAAPA/AAAAAAAA8D8AAAAAAADwPwAAAAAAAPA/AAAAAAAA8D8AAAAAAADwPwAAAAAAAPA/AAAAAAAA8D8AAAAAAADwPwAAAAAAAPA/AAAAAAAA8D8AAAAAAADwPwAAAAAAAPA/AAAAAAAA8D8AAAAAAADwPwAAAAAAAPA/AAAAAAAA8D8AAAAAAADwPwAAAAAAAPA/AAAAAAAA8D8AAAAAAADwPwAAAAAAAPA/AAAAAAAA8D8AAAAAAADwPwAAAAAAAPA/AAAAAAAA8D8AAAAAAADwPwAAAAAAAPA/AAAAAAAA8D8AAAAAAADwPwAAAAAAAPA/AAAAAAAA8D8AAAAAAADwPwAAAAAAAPA/AAAAAAAA8D8AAAAAAADwPwAAAAAAAPA/AAAAAAAA8D8AAAAAAADwPwAAAAAAAPA/AAAAAAAA8D8AAAAAAADwPwAAAAAAAPA/AAAAAAAA8D8AAAAAAADwPwAAAAAAAPA/AAAAAAAA8D8AAAAAAADwPwAAAAAAAPA/AAAAAAAA8D8AAAAAAADwPwAAAAAAAPA/AAAAAAAA8D8AAAAAAADwPwAAAAAAAPA/AAAAAAAA8D8AAAAAAADwPwAAAAAAAPA/AAAAAAAA8D8AAAAAAADwPwAAAAAAAPA/AAAAAAAA8D8AAAAAAADwPwAAAAAAAPA/AAAAAAAA8D8AAAAAAADwPwAAAAAAAPA/AAAAAAAA8D8AAAAAAADwPwAAAAAAAPA/AAAAAAAA8D8AAAAAAADwPwAAAAAAAPA/AAAAAAAA8D8AAAAAAADwPwAAAAAAAPA/AAAAAAAA8D8AAAAAAADwPwAAAAAAAPA/AAAAAAAA8D8AAAAAAADwPwAAAAAAAPA/AAAAAAAA8D8AAAAAAADwPwAAAAAAAPA/\",\"dtype\":\"float64\",\"order\":\"little\",\"shape\":[90]},\"index\":[0,1,2,3,4,5,6,7,8,9,10,11,12,13,14,15,16,17,18,19,20,21,22,23,24,25,26,27,28,29,30,31,32,33,34,35,36,37,38,39,40,41,42,43,44,45,46,47,48,49,50,51,52,53,54,55,56,57,58,59,60,61,62,63,64,65,66,67,68,69,70,71,72,73,74,75,76,77,78,79,80,81,82,83,84,85,86,87,88,89],\"instrument\":[0,0,0,0,0,0,0,0,0,0,0,0,0,0,0,0,0,0,0,0,0,0,0,0,0,0,0,0,0,0,0,0,0,0,0,0,0,0,0,0,0,0,0,0,0,0,0,0,0,0,0,0,0,0,0,0,0,0,0,0,0,0,0,0,0,0,0,0,0,0,0,0,0,0,0,0,0,0,0,0,0,0,0,0,0,0,0,0,0,0],\"pitch\":[21,72,50,82,96,62,103,71,63,89,27,79,37,89,57,63,62,47,74,62,92,78,89,92,93,29,42,59,28,93,56,76,63,74,55,70,101,48,43,83,32,49,77,42,85,40,90,100,45,88,83,61,68,65,35,54,54,25,100,22,78,99,82,82,106,51,60,27,30,40,107,81,21,96,78,35,45,26,72,42,46,69,108,48,39,86,90,48,30,87],\"program\":[0,0,0,0,0,0,0,0,0,0,0,0,0,0,0,0,0,0,0,0,0,0,0,0,0,0,0,0,0,0,0,0,0,0,0,0,0,0,0,0,0,0,0,0,0,0,0,0,0,0,0,0,0,0,0,0,0,0,0,0,0,0,0,0,0,0,0,0,0,0,0,0,0,0,0,0,0,0,0,0,0,0,0,0,0,0,0,0,0,0],\"start_time\":{\"__ndarray__\":\"AAAAAAAAAAAAAAAAAADAPwAAAAAAANA/AAAAAAAA2D8AAAAAAADgPwAAAAAAAOQ/AAAAAAAA6D8AAAAAAADsPwAAAAAAAPA/AAAAAAAA8j8AAAAAAAD0PwAAAAAAAPY/AAAAAAAA+D8AAAAAAAD6PwAAAAAAAPw/AAAAAAAA/j8AAAAAAAAAQAAAAAAAAAFAAAAAAAAAAkAAAAAAAAADQAAAAAAAAARAAAAAAAAABUAAAAAAAAAGQAAAAAAAAAdAAAAAAAAACEAAAAAAAAAJQAAAAAAAAApAAAAAAAAAC0AAAAAAAAAMQAAAAAAAAA1AAAAAAAAADkAAAAAAAAAPQAAAAAAAABBAAAAAAACAEEAAAAAAAAARQAAAAAAAgBFAAAAAAAAAEkAAAAAAAIASQAAAAAAAABNAAAAAAACAE0AAAAAAAAAUQAAAAAAAgBRAAAAAAAAAFUAAAAAAAIAVQAAAAAAAABZAAAAAAACAFkAAAAAAAAAXQAAAAAAAgBdAAAAAAAAAGEAAAAAAAIAYQAAAAAAAABlAAAAAAACAGUAAAAAAAAAaQAAAAAAAgBpAAAAAAAAAG0AAAAAAAIAbQAAAAAAAABxAAAAAAACAHEAAAAAAAAAdQAAAAAAAgB1AAAAAAAAAHkAAAAAAAIAeQAAAAAAAAB9AAAAAAACAH0AAAAAAAAAgQAAAAAAAQCBAAAAAAACAIEAAAAAAAMAgQAAAAAAAACFAAAAAAABAIUAAAAAAAIAhQAAAAAAAwCFAAAAAAAAAIkAAAAAAAEAiQAAAAAAAgCJAAAAAAADAIkAAAAAAAAAjQAAAAAAAQCNAAAAAAACAI0AAAAAAAMAjQAAAAAAAACRAAAAAAABAJEAAAAAAAIAkQAAAAAAAwCRAAAAAAAAAJUAAAAAAAEAlQAAAAAAAgCVAAAAAAADAJUAAAAAAAAAmQAAAAAAAQCZA\",\"dtype\":\"float64\",\"order\":\"little\",\"shape\":[90]},\"top\":{\"__ndarray__\":\"ZmZmZmZmNUCamZmZmRlSQDMzMzMzM0lAmpmZmZmZVECamZmZmRlYQDMzMzMzM09AmpmZmZnZWUCamZmZmdlRQDMzMzMzs09AmpmZmZlZVkBmZmZmZmY7QJqZmZmZ2VNAMzMzMzOzQkCamZmZmVlWQDMzMzMzs0xAMzMzMzOzT0AzMzMzMzNPQDMzMzMzs0dAmpmZmZmZUkAzMzMzMzNPQJqZmZmZGVdAmpmZmZmZU0CamZmZmVlWQJqZmZmZGVdAmpmZmZlZV0BmZmZmZmY9QDMzMzMzM0VAMzMzMzOzTUBmZmZmZmY8QJqZmZmZWVdAMzMzMzMzTECamZmZmRlTQDMzMzMzs09AmpmZmZmZUkAzMzMzM7NLQJqZmZmZmVFAmpmZmZlZWUAzMzMzMzNIQDMzMzMzs0VAmpmZmZnZVEAzMzMzMzNAQDMzMzMzs0hAmpmZmZlZU0AzMzMzMzNFQJqZmZmZWVVAMzMzMzMzRECamZmZmZlWQJqZmZmZGVlAMzMzMzOzRkCamZmZmRlWQJqZmZmZ2VRAMzMzMzOzTkCamZmZmRlRQJqZmZmZWVBAMzMzMzOzQUAzMzMzMzNLQDMzMzMzM0tAZmZmZmZmOUCamZmZmRlZQGZmZmZmZjZAmpmZmZmZU0CamZmZmdlYQJqZmZmZmVRAmpmZmZmZVECamZmZmZlaQDMzMzMzs0lAMzMzMzMzTkBmZmZmZmY7QGZmZmZmZj5AMzMzMzMzRECamZmZmdlaQJqZmZmZWVRAZmZmZmZmNUCamZmZmRlYQJqZmZmZmVNAMzMzMzOzQUAzMzMzM7NGQGZmZmZmZjpAmpmZmZkZUkAzMzMzMzNFQDMzMzMzM0dAmpmZmZlZUUCamZmZmRlbQDMzMzMzM0hAMzMzMzOzQ0CamZmZmZlVQJqZmZmZmVZAMzMzMzMzSEBmZmZmZmY+QJqZmZmZ2VVA\",\"dtype\":\"float64\",\"order\":\"little\",\"shape\":[90]},\"velocity\":[80,80,80,80,80,80,80,80,80,80,80,80,80,80,80,80,80,80,80,80,80,80,80,80,80,80,80,80,80,80,80,80,80,80,80,80,80,80,80,80,80,80,80,80,80,80,80,80,80,80,80,80,80,80,80,80,80,80,80,80,80,80,80,80,80,80,80,80,80,80,80,80,80,80,80,80,80,80,80,80,80,80,80,80,80,80,80,80,80,80]},\"selected\":{\"id\":\"1847\"},\"selection_policy\":{\"id\":\"1846\"}},\"id\":\"1832\",\"type\":\"ColumnDataSource\"},{\"attributes\":{},\"id\":\"1839\",\"type\":\"Title\"},{\"attributes\":{\"axis_label\":\"pitch (MIDI)\",\"formatter\":{\"id\":\"1840\"},\"major_label_policy\":{\"id\":\"1841\"},\"ticker\":{\"id\":\"1829\"}},\"id\":\"1813\",\"type\":\"LinearAxis\"},{\"attributes\":{\"interval\":12},\"id\":\"1831\",\"type\":\"SingleIntervalTicker\"},{\"attributes\":{\"source\":{\"id\":\"1832\"}},\"id\":\"1837\",\"type\":\"CDSView\"},{\"attributes\":{\"axis\":{\"id\":\"1813\"},\"dimension\":1,\"ticker\":{\"id\":\"1831\"}},\"id\":\"1816\",\"type\":\"Grid\"},{\"attributes\":{\"bottom\":{\"field\":\"bottom\"},\"fill_alpha\":{\"value\":0.1},\"fill_color\":{\"value\":\"#d53e4f\"},\"left\":{\"field\":\"start_time\"},\"line_alpha\":{\"value\":0.1},\"right\":{\"field\":\"end_time\"},\"top\":{\"field\":\"top\"}},\"id\":\"1835\",\"type\":\"Quad\"},{\"attributes\":{\"data_source\":{\"id\":\"1832\"},\"glyph\":{\"id\":\"1834\"},\"hover_glyph\":null,\"muted_glyph\":null,\"nonselection_glyph\":{\"id\":\"1835\"},\"view\":{\"id\":\"1837\"}},\"id\":\"1836\",\"type\":\"GlyphRenderer\"},{\"attributes\":{\"interval\":12},\"id\":\"1829\",\"type\":\"SingleIntervalTicker\"},{\"attributes\":{},\"id\":\"1810\",\"type\":\"BasicTicker\"},{\"attributes\":{\"bottom\":{\"field\":\"bottom\"},\"fill_alpha\":{\"field\":\"fill_alpha\"},\"fill_color\":{\"value\":\"#d53e4f\"},\"left\":{\"field\":\"start_time\"},\"right\":{\"field\":\"end_time\"},\"top\":{\"field\":\"top\"}},\"id\":\"1834\",\"type\":\"Quad\"},{\"attributes\":{\"axis_label\":\"time (sec)\",\"formatter\":{\"id\":\"1842\"},\"major_label_policy\":{\"id\":\"1844\"},\"ticker\":{\"id\":\"1810\"}},\"id\":\"1809\",\"type\":\"LinearAxis\"},{\"attributes\":{\"axis\":{\"id\":\"1809\"},\"ticker\":null},\"id\":\"1812\",\"type\":\"Grid\"},{\"attributes\":{},\"id\":\"1821\",\"type\":\"SaveTool\"},{\"attributes\":{},\"id\":\"1807\",\"type\":\"LinearScale\"},{\"attributes\":{},\"id\":\"1820\",\"type\":\"ResetTool\"},{\"attributes\":{\"bottom_units\":\"screen\",\"fill_alpha\":0.5,\"fill_color\":\"lightgrey\",\"left_units\":\"screen\",\"level\":\"overlay\",\"line_alpha\":1.0,\"line_color\":\"black\",\"line_dash\":[4,4],\"line_width\":2,\"right_units\":\"screen\",\"syncable\":false,\"top_units\":\"screen\"},\"id\":\"1822\",\"type\":\"BoxAnnotation\"},{\"attributes\":{\"overlay\":{\"id\":\"1822\"}},\"id\":\"1819\",\"type\":\"BoxZoomTool\"}],\"root_ids\":[\"1800\"]},\"title\":\"Bokeh Application\",\"version\":\"2.3.3\"}};\n  var render_items = [{\"docid\":\"6c2324f4-6f61-4928-b5bb-ec166c2f5b26\",\"root_ids\":[\"1800\"],\"roots\":{\"1800\":\"ad6d5dc9-f77d-4078-a0e7-fa7d9f5292cb\"}}];\n  root.Bokeh.embed.embed_items_notebook(docs_json, render_items);\n\n  }\n  if (root.Bokeh !== undefined) {\n    embed_document(root);\n  } else {\n    var attempts = 0;\n    var timer = setInterval(function(root) {\n      if (root.Bokeh !== undefined) {\n        clearInterval(timer);\n        embed_document(root);\n      } else {\n        attempts++;\n        if (attempts > 100) {\n          clearInterval(timer);\n          console.log(\"Bokeh: ERROR: Unable to run BokehJS code because BokehJS library is missing\");\n        }\n      }\n    }, 10, root)\n  }\n})(window);",
            "application/vnd.bokehjs_exec.v0+json": ""
          },
          "metadata": {
            "application/vnd.bokehjs_exec.v0+json": {
              "id": "1800"
            }
          },
          "output_type": "display_data"
        },
        {
          "data": {
            "text/html": [
              "\n",
              "\n",
              "\n",
              "\n",
              "\n",
              "\n",
              "  <div class=\"bk-root\" id=\"8fa6b2bb-074a-46f0-9558-718cfacf5514\" data-root-id=\"1968\"></div>\n"
            ]
          },
          "metadata": {},
          "output_type": "display_data"
        },
        {
          "data": {
            "application/javascript": "(function(root) {\n  function embed_document(root) {\n    \n  var docs_json = {\"a953eea8-ced4-4b3f-bc1b-37d88445df41\":{\"defs\":[],\"roots\":{\"references\":[{\"attributes\":{\"below\":[{\"id\":\"1977\"}],\"center\":[{\"id\":\"1980\"},{\"id\":\"1984\"}],\"height\":200,\"left\":[{\"id\":\"1981\"}],\"renderers\":[{\"id\":\"2004\"}],\"title\":{\"id\":\"2007\"},\"toolbar\":{\"id\":\"1991\"},\"width\":500,\"x_range\":{\"id\":\"1969\"},\"x_scale\":{\"id\":\"1973\"},\"y_range\":{\"id\":\"1971\"},\"y_scale\":{\"id\":\"1975\"}},\"id\":\"1968\",\"subtype\":\"Figure\",\"type\":\"Plot\"},{\"attributes\":{\"bottom\":{\"field\":\"bottom\"},\"fill_alpha\":{\"field\":\"fill_alpha\"},\"fill_color\":{\"value\":\"#d53e4f\"},\"left\":{\"field\":\"start_time\"},\"right\":{\"field\":\"end_time\"},\"top\":{\"field\":\"top\"}},\"id\":\"2002\",\"type\":\"Quad\"},{\"attributes\":{\"callback\":null,\"tooltips\":[[\"pitch\",\"@pitch\"],[\"program\",\"@program\"],[\"velo\",\"@velocity\"],[\"duration\",\"@duration\"],[\"start_time\",\"@start_time\"],[\"end_time\",\"@end_time\"],[\"velocity\",\"@velocity\"],[\"fill_alpha\",\"@fill_alpha\"]]},\"id\":\"1985\",\"type\":\"HoverTool\"},{\"attributes\":{\"axis\":{\"id\":\"1981\"},\"dimension\":1,\"ticker\":{\"id\":\"1999\"}},\"id\":\"1984\",\"type\":\"Grid\"},{\"attributes\":{},\"id\":\"2012\",\"type\":\"AllLabels\"},{\"attributes\":{\"axis\":{\"id\":\"1977\"},\"ticker\":null},\"id\":\"1980\",\"type\":\"Grid\"},{\"attributes\":{\"data_source\":{\"id\":\"2000\"},\"glyph\":{\"id\":\"2002\"},\"hover_glyph\":null,\"muted_glyph\":null,\"nonselection_glyph\":{\"id\":\"2003\"},\"view\":{\"id\":\"2005\"}},\"id\":\"2004\",\"type\":\"GlyphRenderer\"},{\"attributes\":{},\"id\":\"1978\",\"type\":\"BasicTicker\"},{\"attributes\":{\"axis_label\":\"time (sec)\",\"formatter\":{\"id\":\"2010\"},\"major_label_policy\":{\"id\":\"2012\"},\"ticker\":{\"id\":\"1978\"}},\"id\":\"1977\",\"type\":\"LinearAxis\"},{\"attributes\":{},\"id\":\"2010\",\"type\":\"BasicTickFormatter\"},{\"attributes\":{},\"id\":\"1975\",\"type\":\"LinearScale\"},{\"attributes\":{},\"id\":\"2014\",\"type\":\"UnionRenderers\"},{\"attributes\":{\"axis_label\":\"pitch (MIDI)\",\"formatter\":{\"id\":\"2008\"},\"major_label_policy\":{\"id\":\"2009\"},\"ticker\":{\"id\":\"1997\"}},\"id\":\"1981\",\"type\":\"LinearAxis\"},{\"attributes\":{},\"id\":\"2015\",\"type\":\"Selection\"},{\"attributes\":{\"interval\":12},\"id\":\"1997\",\"type\":\"SingleIntervalTicker\"},{\"attributes\":{},\"id\":\"2009\",\"type\":\"AllLabels\"},{\"attributes\":{\"data\":{\"bottom\":{\"__ndarray__\":\"ZmZmZmamUUBmZmZmZqZWQM3MzMzMzERAzczMzMzMTUBmZmZmZmZZQGZmZmZmplBAZmZmZmbmVUBmZmZmZuZSQGZmZmZm5llAZmZmZmYmWkBmZmZmZqZQQGZmZmZm5lJAZmZmZmamVEDNzMzMzMxJQM3MzMzMzEtAZmZmZmYmVkDNzMzMzMxBQGZmZmZm5lVAmpmZmZmZOkDNzMzMzMxEQJqZmZmZmT1AZmZmZmYmWkBmZmZmZqZQQGZmZmZmZlRAzczMzMzMQUDNzMzMzExDQGZmZmZmZlVAzczMzMxMS0BmZmZmZqZQQM3MzMzMTEtAZmZmZmYmUEDNzMzMzExEQJqZmZmZmTpAZmZmZmamUkBmZmZmZqZaQJqZmZmZmTRAzczMzMzMRkBmZmZmZuZTQGZmZmZm5llAZmZmZmZmVEDNzMzMzMxIQGZmZmZm5lVAZmZmZmamU0DNzMzMzMxAQGZmZmZmZlZAzczMzMzMRkDNzMzMzExDQM3MzMzMzE9AZmZmZmbmVUDNzMzMzExLQJqZmZmZmT9AZmZmZmZmVECamZmZmZk9QGZmZmZmpldAZmZmZmYmWUBmZmZmZmZXQM3MzMzMzElAZmZmZmamVkBmZmZmZiZTQM3MzMzMTEJAzczMzMzMT0BmZmZmZuZTQM3MzMzMTEVAmpmZmZmZOkBmZmZmZqZUQGZmZmZmZlVAZmZmZmZmU0CamZmZmZk+QJqZmZmZmTlAzczMzMzMRUDNzMzMzExPQJqZmZmZmTRAZmZmZmbmUEDNzMzMzMxEQGZmZmZm5ldAzczMzMzMTkBmZmZmZuZaQGZmZmZmplhAzczMzMxMRUBmZmZmZuZYQGZmZmZmZlVAZmZmZmbmUEDNzMzMzMxPQGZmZmZmplBAZmZmZmamVECamZmZmZk6QJqZmZmZmT5AzczMzMzMQEDNzMzMzExFQA==\",\"dtype\":\"float64\",\"order\":\"little\",\"shape\":[89]},\"duration\":{\"__ndarray__\":\"AAAAAAAAwD8AAAAAAADAPwAAAAAAAMA/AAAAAAAAwD8AAAAAAADAPwAAAAAAAMA/AAAAAAAAwD8AAAAAAADAPwAAAAAAAMA/AAAAAAAAwD8AAAAAAADAPwAAAAAAAMA/AAAAAAAAwD8AAAAAAADAPwAAAAAAAMA/AAAAAAAAwD8AAAAAAADAPwAAAAAAAMA/AAAAAAAAwD8AAAAAAADAPwAAAAAAAMA/AAAAAAAAwD8AAAAAAADAPwAAAAAAAMA/AAAAAAAAwD8AAAAAAADAPwAAAAAAAMA/AAAAAAAAwD8AAAAAAADAPwAAAAAAAMA/AAAAAAAAwD8AAAAAAADAPwAAAAAAAMA/AAAAAAAAwD8AAAAAAADAPwAAAAAAAMA/AAAAAAAAwD8AAAAAAADAPwAAAAAAAMA/AAAAAAAAwD8AAAAAAADAPwAAAAAAAMA/AAAAAAAAwD8AAAAAAADAPwAAAAAAAMA/AAAAAAAAwD8AAAAAAADAPwAAAAAAAMA/AAAAAAAAwD8AAAAAAADAPwAAAAAAAMA/AAAAAAAAwD8AAAAAAADAPwAAAAAAANA/AAAAAAAAwD8AAAAAAADAPwAAAAAAAMA/AAAAAAAAwD8AAAAAAADAPwAAAAAAAMA/AAAAAAAAwD8AAAAAAADAPwAAAAAAAMA/AAAAAAAAwD8AAAAAAADAPwAAAAAAAMA/AAAAAAAAwD8AAAAAAADAPwAAAAAAAMA/AAAAAAAAwD8AAAAAAADAPwAAAAAAAMA/AAAAAAAAwD8AAAAAAADAPwAAAAAAAMA/AAAAAAAAwD8AAAAAAADAPwAAAAAAAMA/AAAAAAAAwD8AAAAAAADAPwAAAAAAAMA/AAAAAAAAwD8AAAAAAADAPwAAAAAAAMA/AAAAAAAAwD8AAAAAAADAPwAAAAAAAMA/AAAAAAAAwD8AAAAAAADAPw==\",\"dtype\":\"float64\",\"order\":\"little\",\"shape\":[89]},\"end_time\":{\"__ndarray__\":\"AAAAAAAAwD8AAAAAAADQPwAAAAAAANg/AAAAAAAA4D8AAAAAAADkPwAAAAAAAOg/AAAAAAAA7D8AAAAAAADwPwAAAAAAAPI/AAAAAAAA9D8AAAAAAAD2PwAAAAAAAPg/AAAAAAAA+j8AAAAAAAD8PwAAAAAAAP4/AAAAAAAAAEAAAAAAAAABQAAAAAAAAAJAAAAAAAAAA0AAAAAAAAAEQAAAAAAAAAVAAAAAAAAABkAAAAAAAAAHQAAAAAAAAAhAAAAAAAAACUAAAAAAAAAKQAAAAAAAAAtAAAAAAAAADEAAAAAAAAANQAAAAAAAAA5AAAAAAAAAD0AAAAAAAAAQQAAAAAAAgBBAAAAAAAAAEUAAAAAAAIARQAAAAAAAABJAAAAAAACAEkAAAAAAAAATQAAAAAAAgBNAAAAAAAAAFEAAAAAAAIAUQAAAAAAAABVAAAAAAACAFUAAAAAAAAAWQAAAAAAAgBZAAAAAAAAAF0AAAAAAAIAXQAAAAAAAABhAAAAAAACAGEAAAAAAAAAZQAAAAAAAgBlAAAAAAAAAGkAAAAAAAIAaQAAAAAAAgBtAAAAAAAAAHEAAAAAAAIAcQAAAAAAAAB1AAAAAAACAHUAAAAAAAAAeQAAAAAAAgB5AAAAAAAAAH0AAAAAAAIAfQAAAAAAAACBAAAAAAABAIEAAAAAAAIAgQAAAAAAAwCBAAAAAAAAAIUAAAAAAAEAhQAAAAAAAgCFAAAAAAADAIUAAAAAAAAAiQAAAAAAAQCJAAAAAAACAIkAAAAAAAMAiQAAAAAAAACNAAAAAAABAI0AAAAAAAIAjQAAAAAAAwCNAAAAAAAAAJEAAAAAAAEAkQAAAAAAAgCRAAAAAAADAJEAAAAAAAAAlQAAAAAAAQCVAAAAAAACAJUAAAAAAAMAlQAAAAAAAACZAAAAAAABAJkAAAAAAAIAmQA==\",\"dtype\":\"float64\",\"order\":\"little\",\"shape\":[89]},\"fill_alpha\":{\"__ndarray__\":\"AAAAAAAA8D8AAAAAAADwPwAAAAAAAPA/AAAAAAAA8D8AAAAAAADwPwAAAAAAAPA/AAAAAAAA8D8AAAAAAADwPwAAAAAAAPA/AAAAAAAA8D8AAAAAAADwPwAAAAAAAPA/AAAAAAAA8D8AAAAAAADwPwAAAAAAAPA/AAAAAAAA8D8AAAAAAADwPwAAAAAAAPA/AAAAAAAA8D8AAAAAAADwPwAAAAAAAPA/AAAAAAAA8D8AAAAAAADwPwAAAAAAAPA/AAAAAAAA8D8AAAAAAADwPwAAAAAAAPA/AAAAAAAA8D8AAAAAAADwPwAAAAAAAPA/AAAAAAAA8D8AAAAAAADwPwAAAAAAAPA/AAAAAAAA8D8AAAAAAADwPwAAAAAAAPA/AAAAAAAA8D8AAAAAAADwPwAAAAAAAPA/AAAAAAAA8D8AAAAAAADwPwAAAAAAAPA/AAAAAAAA8D8AAAAAAADwPwAAAAAAAPA/AAAAAAAA8D8AAAAAAADwPwAAAAAAAPA/AAAAAAAA8D8AAAAAAADwPwAAAAAAAPA/AAAAAAAA8D8AAAAAAADwPwAAAAAAAPA/AAAAAAAA8D8AAAAAAADwPwAAAAAAAPA/AAAAAAAA8D8AAAAAAADwPwAAAAAAAPA/AAAAAAAA8D8AAAAAAADwPwAAAAAAAPA/AAAAAAAA8D8AAAAAAADwPwAAAAAAAPA/AAAAAAAA8D8AAAAAAADwPwAAAAAAAPA/AAAAAAAA8D8AAAAAAADwPwAAAAAAAPA/AAAAAAAA8D8AAAAAAADwPwAAAAAAAPA/AAAAAAAA8D8AAAAAAADwPwAAAAAAAPA/AAAAAAAA8D8AAAAAAADwPwAAAAAAAPA/AAAAAAAA8D8AAAAAAADwPwAAAAAAAPA/AAAAAAAA8D8AAAAAAADwPwAAAAAAAPA/AAAAAAAA8D8AAAAAAADwPw==\",\"dtype\":\"float64\",\"order\":\"little\",\"shape\":[89]},\"index\":[0,1,2,3,4,5,6,7,8,9,10,11,12,13,14,15,16,17,18,19,20,21,22,23,24,25,26,27,28,29,30,31,32,33,34,35,36,37,38,39,40,41,42,43,44,45,46,47,48,49,50,51,52,53,54,55,56,57,58,59,60,61,62,63,64,65,66,67,68,69,70,71,72,73,74,75,76,77,78,79,80,81,82,83,84,85,86,87,88],\"instrument\":[0,0,0,0,0,0,0,0,0,0,0,0,0,0,0,0,0,0,0,0,0,0,0,0,0,0,0,0,0,0,0,0,0,0,0,0,0,0,0,0,0,0,0,0,0,0,0,0,0,0,0,0,0,0,0,0,0,0,0,0,0,0,0,0,0,0,0,0,0,0,0,0,0,0,0,0,0,0,0,0,0,0,0,0,0,0,0,0,0],\"pitch\":[71,91,42,60,102,67,88,76,104,105,67,76,83,52,56,89,36,88,27,42,30,105,67,82,36,39,86,55,67,55,65,41,27,75,107,21,46,80,104,82,50,88,79,34,90,46,39,64,88,55,32,82,30,95,101,94,52,91,77,37,64,80,43,27,83,86,78,31,26,44,63,21,68,42,96,62,108,99,43,100,86,68,64,67,83,27,31,34,43],\"program\":[0,0,0,0,0,0,0,0,0,0,0,0,0,0,0,0,0,0,0,0,0,0,0,0,0,0,0,0,0,0,0,0,0,0,0,0,0,0,0,0,0,0,0,0,0,0,0,0,0,0,0,0,0,0,0,0,0,0,0,0,0,0,0,0,0,0,0,0,0,0,0,0,0,0,0,0,0,0,0,0,0,0,0,0,0,0,0,0,0],\"start_time\":{\"__ndarray__\":\"AAAAAAAAAAAAAAAAAADAPwAAAAAAANA/AAAAAAAA2D8AAAAAAADgPwAAAAAAAOQ/AAAAAAAA6D8AAAAAAADsPwAAAAAAAPA/AAAAAAAA8j8AAAAAAAD0PwAAAAAAAPY/AAAAAAAA+D8AAAAAAAD6PwAAAAAAAPw/AAAAAAAA/j8AAAAAAAAAQAAAAAAAAAFAAAAAAAAAAkAAAAAAAAADQAAAAAAAAARAAAAAAAAABUAAAAAAAAAGQAAAAAAAAAdAAAAAAAAACEAAAAAAAAAJQAAAAAAAAApAAAAAAAAAC0AAAAAAAAAMQAAAAAAAAA1AAAAAAAAADkAAAAAAAAAPQAAAAAAAABBAAAAAAACAEEAAAAAAAAARQAAAAAAAgBFAAAAAAAAAEkAAAAAAAIASQAAAAAAAABNAAAAAAACAE0AAAAAAAAAUQAAAAAAAgBRAAAAAAAAAFUAAAAAAAIAVQAAAAAAAABZAAAAAAACAFkAAAAAAAAAXQAAAAAAAgBdAAAAAAAAAGEAAAAAAAIAYQAAAAAAAABlAAAAAAACAGUAAAAAAAAAaQAAAAAAAgBpAAAAAAACAG0AAAAAAAAAcQAAAAAAAgBxAAAAAAAAAHUAAAAAAAIAdQAAAAAAAAB5AAAAAAACAHkAAAAAAAAAfQAAAAAAAgB9AAAAAAAAAIEAAAAAAAEAgQAAAAAAAgCBAAAAAAADAIEAAAAAAAAAhQAAAAAAAQCFAAAAAAACAIUAAAAAAAMAhQAAAAAAAACJAAAAAAABAIkAAAAAAAIAiQAAAAAAAwCJAAAAAAAAAI0AAAAAAAEAjQAAAAAAAgCNAAAAAAADAI0AAAAAAAAAkQAAAAAAAQCRAAAAAAACAJEAAAAAAAMAkQAAAAAAAACVAAAAAAABAJUAAAAAAAIAlQAAAAAAAwCVAAAAAAAAAJkAAAAAAAEAmQA==\",\"dtype\":\"float64\",\"order\":\"little\",\"shape\":[89]},\"top\":{\"__ndarray__\":\"mpmZmZnZUUCamZmZmdlWQDMzMzMzM0VAMzMzMzMzTkCamZmZmZlZQJqZmZmZ2VBAmpmZmZkZVkCamZmZmRlTQJqZmZmZGVpAmpmZmZlZWkCamZmZmdlQQJqZmZmZGVNAmpmZmZnZVEAzMzMzMzNKQDMzMzMzM0xAmpmZmZlZVkAzMzMzMzNCQJqZmZmZGVZAZmZmZmZmO0AzMzMzMzNFQGZmZmZmZj5AmpmZmZlZWkCamZmZmdlQQJqZmZmZmVRAMzMzMzMzQkAzMzMzM7NDQJqZmZmZmVVAMzMzMzOzS0CamZmZmdlQQDMzMzMzs0tAmpmZmZlZUEAzMzMzM7NEQGZmZmZmZjtAmpmZmZnZUkCamZmZmdlaQGZmZmZmZjVAMzMzMzMzR0CamZmZmRlUQJqZmZmZGVpAmpmZmZmZVEAzMzMzMzNJQJqZmZmZGVZAmpmZmZnZU0AzMzMzMzNBQJqZmZmZmVZAMzMzMzMzR0AzMzMzM7NDQJqZmZmZGVBAmpmZmZkZVkAzMzMzM7NLQDMzMzMzM0BAmpmZmZmZVEBmZmZmZmY+QJqZmZmZ2VdAmpmZmZlZWUCamZmZmZlXQDMzMzMzM0pAmpmZmZnZVkCamZmZmVlTQDMzMzMzs0JAmpmZmZkZUECamZmZmRlUQDMzMzMzs0VAZmZmZmZmO0CamZmZmdlUQJqZmZmZmVVAmpmZmZmZU0BmZmZmZmY/QGZmZmZmZjpAMzMzMzMzRkAzMzMzM7NPQGZmZmZmZjVAmpmZmZkZUUAzMzMzMzNFQJqZmZmZGVhAMzMzMzMzT0CamZmZmRlbQJqZmZmZ2VhAMzMzMzOzRUCamZmZmRlZQJqZmZmZmVVAmpmZmZkZUUCamZmZmRlQQJqZmZmZ2VBAmpmZmZnZVEBmZmZmZmY7QGZmZmZmZj9AMzMzMzMzQUAzMzMzM7NFQA==\",\"dtype\":\"float64\",\"order\":\"little\",\"shape\":[89]},\"velocity\":[80,80,80,80,80,80,80,80,80,80,80,80,80,80,80,80,80,80,80,80,80,80,80,80,80,80,80,80,80,80,80,80,80,80,80,80,80,80,80,80,80,80,80,80,80,80,80,80,80,80,80,80,80,80,80,80,80,80,80,80,80,80,80,80,80,80,80,80,80,80,80,80,80,80,80,80,80,80,80,80,80,80,80,80,80,80,80,80,80]},\"selected\":{\"id\":\"2015\"},\"selection_policy\":{\"id\":\"2014\"}},\"id\":\"2000\",\"type\":\"ColumnDataSource\"},{\"attributes\":{\"bottom_units\":\"screen\",\"fill_alpha\":0.5,\"fill_color\":\"lightgrey\",\"left_units\":\"screen\",\"level\":\"overlay\",\"line_alpha\":1.0,\"line_color\":\"black\",\"line_dash\":[4,4],\"line_width\":2,\"right_units\":\"screen\",\"syncable\":false,\"top_units\":\"screen\"},\"id\":\"1990\",\"type\":\"BoxAnnotation\"},{\"attributes\":{\"source\":{\"id\":\"2000\"}},\"id\":\"2005\",\"type\":\"CDSView\"},{\"attributes\":{},\"id\":\"2007\",\"type\":\"Title\"},{\"attributes\":{},\"id\":\"1969\",\"type\":\"DataRange1d\"},{\"attributes\":{},\"id\":\"1971\",\"type\":\"DataRange1d\"},{\"attributes\":{\"interval\":12},\"id\":\"1999\",\"type\":\"SingleIntervalTicker\"},{\"attributes\":{},\"id\":\"1988\",\"type\":\"ResetTool\"},{\"attributes\":{},\"id\":\"2008\",\"type\":\"BasicTickFormatter\"},{\"attributes\":{},\"id\":\"1973\",\"type\":\"LinearScale\"},{\"attributes\":{\"active_multi\":null,\"tools\":[{\"id\":\"1985\"},{\"id\":\"1986\"},{\"id\":\"1987\"},{\"id\":\"1988\"},{\"id\":\"1989\"}]},\"id\":\"1991\",\"type\":\"Toolbar\"},{\"attributes\":{\"overlay\":{\"id\":\"1990\"}},\"id\":\"1987\",\"type\":\"BoxZoomTool\"},{\"attributes\":{\"bottom\":{\"field\":\"bottom\"},\"fill_alpha\":{\"value\":0.1},\"fill_color\":{\"value\":\"#d53e4f\"},\"left\":{\"field\":\"start_time\"},\"line_alpha\":{\"value\":0.1},\"right\":{\"field\":\"end_time\"},\"top\":{\"field\":\"top\"}},\"id\":\"2003\",\"type\":\"Quad\"},{\"attributes\":{},\"id\":\"1986\",\"type\":\"PanTool\"},{\"attributes\":{},\"id\":\"1989\",\"type\":\"SaveTool\"}],\"root_ids\":[\"1968\"]},\"title\":\"Bokeh Application\",\"version\":\"2.3.3\"}};\n  var render_items = [{\"docid\":\"a953eea8-ced4-4b3f-bc1b-37d88445df41\",\"root_ids\":[\"1968\"],\"roots\":{\"1968\":\"8fa6b2bb-074a-46f0-9558-718cfacf5514\"}}];\n  root.Bokeh.embed.embed_items_notebook(docs_json, render_items);\n\n  }\n  if (root.Bokeh !== undefined) {\n    embed_document(root);\n  } else {\n    var attempts = 0;\n    var timer = setInterval(function(root) {\n      if (root.Bokeh !== undefined) {\n        clearInterval(timer);\n        embed_document(root);\n      } else {\n        attempts++;\n        if (attempts > 100) {\n          clearInterval(timer);\n          console.log(\"Bokeh: ERROR: Unable to run BokehJS code because BokehJS library is missing\");\n        }\n      }\n    }, 10, root)\n  }\n})(window);",
            "application/vnd.bokehjs_exec.v0+json": ""
          },
          "metadata": {
            "application/vnd.bokehjs_exec.v0+json": {
              "id": "1968"
            }
          },
          "output_type": "display_data"
        }
      ],
      "source": [
        "# executa o gerador treinado\n",
        "generated_sequences = trained_model.sample(n=4, length=90, temperature=1.0)\n",
        "\n",
        "for ns in generated_sequences:\n",
        "  # print(ns)\n",
        "  note_seq.plot_sequence(ns)"
      ]
    },
    {
      "cell_type": "markdown",
      "metadata": {
        "id": "3mMbXyxc8mz8"
      },
      "source": [
        "# **Utilidades...**"
      ]
    },
    {
      "cell_type": "code",
      "execution_count": 2,
      "metadata": {
        "id": "pO798XHyax_h"
      },
      "outputs": [
        {
          "ename": "SyntaxError",
          "evalue": "invalid syntax (1656038339.py, line 2)",
          "output_type": "error",
          "traceback": [
            "\u001b[1;36m  Cell \u001b[1;32mIn [2], line 2\u001b[1;36m\u001b[0m\n\u001b[1;33m    pip install magenta\u001b[0m\n\u001b[1;37m        ^\u001b[0m\n\u001b[1;31mSyntaxError\u001b[0m\u001b[1;31m:\u001b[0m invalid syntax\n"
          ]
        }
      ],
      "source": [
        "# instala o magenta\n",
        "!pip install -qU magenta\n",
        "Microsoft Visual C++"
      ]
    },
    {
      "cell_type": "code",
      "execution_count": null,
      "metadata": {
        "id": "JuBvuRLTGUHZ"
      },
      "outputs": [],
      "source": [
        "# conta a quantidade de registros existentes no dataset de treinamento\n",
        "sum(1 for _ in tf.data.TFRecordDataset('training_dir/data/batch-0.tfrecord'))"
      ]
    },
    {
      "cell_type": "code",
      "execution_count": null,
      "metadata": {
        "id": "-f5kFrx4hVS4"
      },
      "outputs": [],
      "source": [
        "# inspeciona o lote de dados\n",
        "tr_raw_set = tf.data.TFRecordDataset('training_dir/data/batch-0.tfrecord')\n",
        "for raw_record in tr_raw_set.take(1):\n",
        "    example = tf.train.Example()\n",
        "    example.ParseFromString(raw_record.numpy())\n",
        "    print(example)"
      ]
    }
  ],
  "metadata": {
    "accelerator": "GPU",
    "colab": {
      "collapsed_sections": [
        "rtx8rb1Rhd60",
        "3mMbXyxc8mz8"
      ],
      "provenance": []
    },
    "kernelspec": {
      "display_name": "Python 3.10.7 ('venv': venv)",
      "language": "python",
      "name": "python3"
    },
    "language_info": {
      "codemirror_mode": {
        "name": "ipython",
        "version": 3
      },
      "file_extension": ".py",
      "mimetype": "text/x-python",
      "name": "python",
      "nbconvert_exporter": "python",
      "pygments_lexer": "ipython3",
      "version": "3.10.7"
    },
    "vscode": {
      "interpreter": {
        "hash": "73fe06d764d928792998aa2ffb0df39e68e8687d1ac861c8454dad5e257e51b3"
      }
    }
  },
  "nbformat": 4,
  "nbformat_minor": 0
}
